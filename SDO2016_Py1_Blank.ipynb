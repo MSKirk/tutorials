{
 "cells": [
  {
   "cell_type": "code",
   "execution_count": 1,
   "metadata": {
    "collapsed": false
   },
   "outputs": [],
   "source": [
    "%matplotlib inline"
   ]
  },
  {
   "cell_type": "markdown",
   "metadata": {},
   "source": [
    "\n",
    "# Transitioning from using IDL to using Python for your science\n",
    "\n",
    "\n",
    "This is an introduction to moving your science from an IDL environment to Python.\n",
    "\n",
    "Let's make sure that your instillation of anaconda is up to date. From the terminal, type:\n"
   ]
  },
  {
   "cell_type": "raw",
   "metadata": {},
   "source": [
    "conda update conda\n",
    "conda update anaconda \n"
   ]
  },
  {
   "cell_type": "markdown",
   "metadata": {},
   "source": [
    "Now, lets launch an ipython (interactive python) session"
   ]
  },
  {
   "cell_type": "raw",
   "metadata": {},
   "source": [
    "ipython"
   ]
  },
  {
   "cell_type": "markdown",
   "metadata": {},
   "source": [
    "# Getting started with Python"
   ]
  },
  {
   "cell_type": "markdown",
   "metadata": {},
   "source": [
    "The first thing to note is that by itself, Python is just a platform. You can think of Python as an engine - it is very powerful but unless you connect it to a transmission, axle, and wheels, it isn't very effective at getting you down the road. \n",
    "\n",
    "Fortunatly in most cases you don't need to reinvent the wheel and you can just find some that someone else created that will fit your needs. \n",
    "\n",
    "The Anaconda package comes with literally thousands of tools to help you work with data. \n",
    "\n",
    "Let's explore some basic tools. NumPy is the fundamental package for scientific computing with Python. Let's load it in to our current session. "
   ]
  },
  {
   "cell_type": "code",
   "execution_count": 2,
   "metadata": {
    "collapsed": true
   },
   "outputs": [],
   "source": [
    "import numpy as np"
   ]
  },
  {
   "cell_type": "markdown",
   "metadata": {},
   "source": [
    "Notice the syntax we are using: import \"the library\" as \"what we want to call it.\" \n",
    "Now whenever we want to call a tool in numpy, we can use \"np.\"\n",
    "\n",
    "Next we will want to plot our data, so lets grab some plotting tools. We will use a package called matplotlib. Matplotlib is a 2D plotting library, which produces all kinds figures. We don't need everything that matplotlib can do, so let's import just the tool that produces line plots. This tool is called pyplot. "
   ]
  },
  {
   "cell_type": "code",
   "execution_count": 3,
   "metadata": {
    "collapsed": true
   },
   "outputs": [],
   "source": [
    "import matplotlib.pyplot as plt"
   ]
  },
  {
   "cell_type": "markdown",
   "metadata": {},
   "source": [
    "Again notice the syntax we are using: import \"library.tool\" as \"what we want to call it.\"\n",
    "\n",
    "Okay, we have the tools 'np' and 'plt' defined. Loading in the tools and libraries you want to use is something you have to do every time you write a program or load a python session. \n",
    "\n",
    "Now lets put our tools to use:"
   ]
  },
  {
   "cell_type": "code",
   "execution_count": 5,
   "metadata": {
    "collapsed": false
   },
   "outputs": [],
   "source": [
    "dt = 0.1\n",
    "Fs = 1/dt\n",
    "t=np.arange(0,Fs, dt)"
   ]
  },
  {
   "cell_type": "markdown",
   "metadata": {},
   "source": [
    "We can dynamically define variables (i.e. we don't have to specify the type) and use conventional assignments to make new variables. \n",
    "\n",
    "We also use a tool within np to create t: np.arange. Np.arange is similar to IDL's FINDGEN( ). It creates an evenly spaced array with the syntax of output=np.arange(start,stop,step). \n",
    "\n",
    "So what does t look like? We just type the variable or use a print statement:"
   ]
  },
  {
   "cell_type": "code",
   "execution_count": 6,
   "metadata": {
    "collapsed": false
   },
   "outputs": [
    {
     "data": {
      "text/plain": [
       "array([ 0. ,  0.1,  0.2,  0.3,  0.4,  0.5,  0.6,  0.7,  0.8,  0.9,  1. ,\n",
       "        1.1,  1.2,  1.3,  1.4,  1.5,  1.6,  1.7,  1.8,  1.9,  2. ,  2.1,\n",
       "        2.2,  2.3,  2.4,  2.5,  2.6,  2.7,  2.8,  2.9,  3. ,  3.1,  3.2,\n",
       "        3.3,  3.4,  3.5,  3.6,  3.7,  3.8,  3.9,  4. ,  4.1,  4.2,  4.3,\n",
       "        4.4,  4.5,  4.6,  4.7,  4.8,  4.9,  5. ,  5.1,  5.2,  5.3,  5.4,\n",
       "        5.5,  5.6,  5.7,  5.8,  5.9,  6. ,  6.1,  6.2,  6.3,  6.4,  6.5,\n",
       "        6.6,  6.7,  6.8,  6.9,  7. ,  7.1,  7.2,  7.3,  7.4,  7.5,  7.6,\n",
       "        7.7,  7.8,  7.9,  8. ,  8.1,  8.2,  8.3,  8.4,  8.5,  8.6,  8.7,\n",
       "        8.8,  8.9,  9. ,  9.1,  9.2,  9.3,  9.4,  9.5,  9.6,  9.7,  9.8,\n",
       "        9.9])"
      ]
     },
     "execution_count": 6,
     "metadata": {},
     "output_type": "execute_result"
    }
   ],
   "source": [
    "t\n"
   ]
  },
  {
   "cell_type": "code",
   "execution_count": 9,
   "metadata": {
    "collapsed": false
   },
   "outputs": [
    {
     "name": "stdout",
     "output_type": "stream",
     "text": [
      "[ 0.   0.1  0.2  0.3  0.4  0.5  0.6  0.7  0.8  0.9  1.   1.1  1.2  1.3  1.4\n",
      "  1.5  1.6  1.7  1.8  1.9  2.   2.1  2.2  2.3  2.4  2.5  2.6  2.7  2.8  2.9\n",
      "  3.   3.1  3.2  3.3  3.4  3.5  3.6  3.7  3.8  3.9  4.   4.1  4.2  4.3  4.4\n",
      "  4.5  4.6  4.7  4.8  4.9  5.   5.1  5.2  5.3  5.4  5.5  5.6  5.7  5.8  5.9\n",
      "  6.   6.1  6.2  6.3  6.4  6.5  6.6  6.7  6.8  6.9  7.   7.1  7.2  7.3  7.4\n",
      "  7.5  7.6  7.7  7.8  7.9  8.   8.1  8.2  8.3  8.4  8.5  8.6  8.7  8.8  8.9\n",
      "  9.   9.1  9.2  9.3  9.4  9.5  9.6  9.7  9.8  9.9]\n"
     ]
    }
   ],
   "source": [
    "print(t)"
   ]
  },
  {
   "cell_type": "markdown",
   "metadata": {},
   "source": [
    "But what are the dimensions of t? How many elements are in it? \n",
    "\n",
    "In IDL we would have to call a function to return this information, such as MAX( ). In Python, since it is an object oriented programming language, the variable t is actually more than just a simple array. It is self-aware! So let's ask t about itself. "
   ]
  },
  {
   "cell_type": "code",
   "execution_count": 10,
   "metadata": {
    "collapsed": false
   },
   "outputs": [
    {
     "data": {
      "text/plain": [
       "<function ndarray.min>"
      ]
     },
     "execution_count": 10,
     "metadata": {},
     "output_type": "execute_result"
    }
   ],
   "source": [
    "t.min"
   ]
  },
  {
   "cell_type": "markdown",
   "metadata": {},
   "source": [
    "Um... what just happened here? Python just said \"yep, that is a valid function of t\" but didn't actually return the value. To get the value out, we need to use a different syntax:"
   ]
  },
  {
   "cell_type": "code",
   "execution_count": 11,
   "metadata": {
    "collapsed": false
   },
   "outputs": [
    {
     "data": {
      "text/plain": [
       "0.0"
      ]
     },
     "execution_count": 11,
     "metadata": {},
     "output_type": "execute_result"
    }
   ],
   "source": [
    "t.min()"
   ]
  },
  {
   "cell_type": "markdown",
   "metadata": {},
   "source": [
    "Also we can ask:"
   ]
  },
  {
   "cell_type": "code",
   "execution_count": 12,
   "metadata": {
    "collapsed": false
   },
   "outputs": [
    {
     "data": {
      "text/plain": [
       "9.9000000000000004"
      ]
     },
     "execution_count": 12,
     "metadata": {},
     "output_type": "execute_result"
    }
   ],
   "source": [
    "t.max()"
   ]
  },
  {
   "cell_type": "code",
   "execution_count": 13,
   "metadata": {
    "collapsed": false
   },
   "outputs": [
    {
     "data": {
      "text/plain": [
       "4.9500000000000002"
      ]
     },
     "execution_count": 13,
     "metadata": {},
     "output_type": "execute_result"
    }
   ],
   "source": [
    "t.mean()"
   ]
  },
  {
   "cell_type": "markdown",
   "metadata": {
    "collapsed": false
   },
   "source": [
    "t.var()"
   ]
  },
  {
   "cell_type": "code",
   "execution_count": 14,
   "metadata": {
    "collapsed": false
   },
   "outputs": [
    {
     "data": {
      "text/plain": [
       "8.3325000000000014"
      ]
     },
     "execution_count": 14,
     "metadata": {},
     "output_type": "execute_result"
    }
   ],
   "source": [
    "t.var()"
   ]
  },
  {
   "cell_type": "markdown",
   "metadata": {},
   "source": [
    "These are all \"t.something( )\" - \"something( )\" is a function of the object \"t\".\n",
    "To find out how many elements are the array"
   ]
  },
  {
   "cell_type": "code",
   "execution_count": 15,
   "metadata": {
    "collapsed": false
   },
   "outputs": [
    {
     "data": {
      "text/plain": [
       "100"
      ]
     },
     "execution_count": 15,
     "metadata": {},
     "output_type": "execute_result"
    }
   ],
   "source": [
    "t.size"
   ]
  },
  {
   "cell_type": "markdown",
   "metadata": {},
   "source": [
    "To see the shape of the array:"
   ]
  },
  {
   "cell_type": "code",
   "execution_count": 16,
   "metadata": {
    "collapsed": false
   },
   "outputs": [
    {
     "data": {
      "text/plain": [
       "(100,)"
      ]
     },
     "execution_count": 16,
     "metadata": {},
     "output_type": "execute_result"
    }
   ],
   "source": [
    "t.shape\n",
    "t.shape"
   ]
  },
  {
   "cell_type": "markdown",
   "metadata": {},
   "source": [
    "If you want to see all of the functions already available in t, type \"t.\" and then 'tab'. This will show you dynamically all of the functions that exist. Go ahead, try it!\n",
    "\n",
    "You'll note that .size and .shape don't have brackets after them, but .min and .var do.  This is because the size and the shape of the array are attributes of the array.  The reason .min (and other methods) have brackets is that these functions have different options that you may want to use.\n",
    "\n",
    "Let's create a 2d random array\n"
   ]
  },
  {
   "cell_type": "code",
   "execution_count": 17,
   "metadata": {
    "collapsed": true
   },
   "outputs": [],
   "source": [
    "rand_nn =np.random.randn(t.size,t.size)"
   ]
  },
  {
   "cell_type": "markdown",
   "metadata": {},
   "source": [
    "We can find the minimum values along one dimension of the array..."
   ]
  },
  {
   "cell_type": "code",
   "execution_count": 18,
   "metadata": {
    "collapsed": false
   },
   "outputs": [
    {
     "data": {
      "text/plain": [
       "array([-2.92970148, -2.24711143, -1.89107467, -2.73870937, -2.80078891,\n",
       "       -3.00810696, -2.05404619, -2.51920264, -2.43742062, -2.43889015,\n",
       "       -2.80901523, -2.62767493, -3.10311212, -2.48616072, -2.45348751,\n",
       "       -2.82391765, -2.62593883, -2.13640821, -2.74603649, -3.60106658,\n",
       "       -2.89253879, -3.59031454, -2.76158555, -2.84581192, -3.03686073,\n",
       "       -2.19695225, -2.86894438, -2.04399912, -2.35935803, -2.48460835,\n",
       "       -3.25452156, -2.40011144, -1.98101907, -1.94262535, -2.00770281,\n",
       "       -3.21082176, -2.4121237 , -2.16512693, -2.71906794, -2.20003222,\n",
       "       -2.07586962, -2.9579122 , -2.00352389, -2.41829304, -4.13596039,\n",
       "       -2.48490309, -2.53410995, -1.80716596, -2.002187  , -2.90700249,\n",
       "       -2.11689505, -2.40958693, -2.178907  , -2.78778906, -2.46189012,\n",
       "       -2.36285356, -2.88290676, -2.43287657, -2.13062667, -1.74132766,\n",
       "       -2.58371411, -2.60045824, -3.22944204, -2.46967402, -2.47233547,\n",
       "       -2.83357728, -2.32368526, -3.11974015, -2.36436343, -1.80083065,\n",
       "       -2.5443457 , -2.7865577 , -2.18988   , -2.00850757, -1.87554043,\n",
       "       -2.38034539, -3.0907917 , -3.06106852, -2.42242276, -2.25106701,\n",
       "       -2.16070054, -1.88847907, -3.07397883, -2.58863792, -2.81765281,\n",
       "       -1.74186388, -3.07252483, -2.69084444, -2.7327669 , -2.40080474,\n",
       "       -2.86342473, -2.26890664, -2.36813593, -2.62705   , -2.4525406 ,\n",
       "       -2.51661104, -2.98141191, -2.60948268, -2.79191735, -2.21906542])"
      ]
     },
     "execution_count": 18,
     "metadata": {},
     "output_type": "execute_result"
    }
   ],
   "source": [
    "rand_nn.min(axis=0)"
   ]
  },
  {
   "cell_type": "markdown",
   "metadata": {},
   "source": [
    "or the other one..."
   ]
  },
  {
   "cell_type": "code",
   "execution_count": 19,
   "metadata": {
    "collapsed": false
   },
   "outputs": [
    {
     "data": {
      "text/plain": [
       "array([-2.23604697, -2.48490309, -2.75295526, -2.77835407, -2.84581192,\n",
       "       -2.92970148, -2.51920264, -1.92422629, -2.89067358, -1.89305991,\n",
       "       -2.71906794, -2.86484766, -2.28758951, -2.48616072, -1.87691685,\n",
       "       -1.87846466, -2.38217763, -2.05387106, -1.93877103, -2.78984511,\n",
       "       -2.80901523, -2.4121237 , -2.60045824, -2.86342473, -2.31897362,\n",
       "       -2.94402485, -2.33473632, -1.94592325, -1.93728789, -2.42665847,\n",
       "       -1.95540641, -2.09929952, -2.20003222, -1.88847907, -3.0907917 ,\n",
       "       -2.74603649, -2.4525406 , -3.07252483, -2.15186848, -2.19152001,\n",
       "       -2.7628783 , -2.43287657, -3.07397883, -3.10311212, -2.86894438,\n",
       "       -2.36841722, -3.21082176, -2.60948268, -1.9739657 , -1.92353291,\n",
       "       -3.22944204, -2.88290676, -2.58863792, -3.03686073, -2.61807666,\n",
       "       -2.98141191, -2.68374671, -2.04145251, -1.83793624, -2.82391765,\n",
       "       -2.49082433, -2.5443457 , -2.02078258, -3.00810696, -3.11974015,\n",
       "       -2.36436343, -2.89253879, -2.35935803, -3.59031454, -2.78778906,\n",
       "       -2.41105286, -2.81765281, -3.25452156, -2.37907176, -2.43926773,\n",
       "       -4.13596039, -2.76158555, -2.58371411, -2.78308152, -2.51444628,\n",
       "       -1.87830823, -2.81622527, -2.15735761, -2.79191735, -2.45184428,\n",
       "       -2.62593883, -1.93602888, -2.62705   , -2.1055527 , -2.47148427,\n",
       "       -2.83357728, -2.7865577 , -2.73870937, -2.9579122 , -2.64265353,\n",
       "       -2.73622383, -2.90700249, -3.60106658, -1.93905461, -2.45348751])"
      ]
     },
     "execution_count": 19,
     "metadata": {},
     "output_type": "execute_result"
    }
   ],
   "source": [
    "rand_nn.min(axis=1\n",
    "        )"
   ]
  },
  {
   "cell_type": "markdown",
   "metadata": {},
   "source": [
    "Or the whole array."
   ]
  },
  {
   "cell_type": "code",
   "execution_count": 20,
   "metadata": {
    "collapsed": false
   },
   "outputs": [
    {
     "data": {
      "text/plain": [
       "(-4.1359603868172332, -4.1359603868172332)"
      ]
     },
     "execution_count": 20,
     "metadata": {},
     "output_type": "execute_result"
    }
   ],
   "source": [
    "rand_nn.min(), rand_nn.min(axis=None)"
   ]
  },
  {
   "cell_type": "markdown",
   "metadata": {},
   "source": [
    "The min( ) function with the axis option finds the minimum value along different dimensions of the array rand_nn."
   ]
  },
  {
   "cell_type": "markdown",
   "metadata": {},
   "source": [
    "We used \"axis=None\".  There is a special value in Python called **None**, which indicates **no value**.  In this case, this means that axis has no assigned value.  The axis function then resorts to a default behavior, which is to give you the minimum value over the entire array."
   ]
  },
  {
   "cell_type": "markdown",
   "metadata": {},
   "source": [
    "\n",
    "Now let's create an array of random numbers with the same number of elements as t. We will use the Numpy tool 'random', but there are lots of ways to generate random numbers. In IDL we might use RANDOMN( ) or RANDOMU( ) depending on the distribution we want to sample from. Numpy.random had many ways of calculating random numbers too. \n",
    "\n",
    "Try typing \"np.random.\" and then 'tab'. \n",
    "\n",
    "Let's sample from a normal distribution:"
   ]
  },
  {
   "cell_type": "code",
   "execution_count": 21,
   "metadata": {
    "collapsed": true
   },
   "outputs": [],
   "source": [
    "rand_n = np.random.randn(t.size)"
   ]
  },
  {
   "cell_type": "markdown",
   "metadata": {},
   "source": [
    "Notice that we can use the t.size attribute of 't' without having to define another variable or call a separate function.\n",
    "\n",
    "Let's plot our variables. To do this we will use the matplotlib's plot function. "
   ]
  },
  {
   "cell_type": "code",
   "execution_count": 22,
   "metadata": {
    "collapsed": false
   },
   "outputs": [
    {
     "data": {
      "image/png": "[encoded data removed]",
      "text/plain": [
       "<matplotlib.figure.Figure at 0x109cc44e0>"
      ]
     },
     "metadata": {},
     "output_type": "display_data"
    }
   ],
   "source": [
    "plt.plot(t,rand_n)\n",
    "plt.show()\n"
   ]
  },
  {
   "cell_type": "markdown",
   "metadata": {},
   "source": [
    "Matplotlib generates a plot and then in a separate command you have to display it to the screen. Yeah, it's a pain but you get use to it. \n",
    "\n",
    "Let's now generate some more complex data:"
   ]
  },
  {
   "cell_type": "code",
   "execution_count": 23,
   "metadata": {
    "collapsed": false
   },
   "outputs": [
    {
     "data": {
      "text/plain": [
       "199"
      ]
     },
     "execution_count": 23,
     "metadata": {},
     "output_type": "execute_result"
    }
   ],
   "source": [
    "r = np.exp(-t/0.05)\n",
    "r_dat = np.convolve(rand_n, r)*dt\n",
    "r_dat.size"
   ]
  },
  {
   "cell_type": "markdown",
   "metadata": {},
   "source": [
    "The convolution returned an array that is twice the size of our other working data sets. We should trim that down. The syntax for segmenting an array uses square brackets:"
   ]
  },
  {
   "cell_type": "code",
   "execution_count": 24,
   "metadata": {
    "collapsed": true
   },
   "outputs": [],
   "source": [
    "r_dat=r_dat[:t.size]"
   ]
  },
  {
   "cell_type": "markdown",
   "metadata": {},
   "source": [
    "This means we want r_dat from the beginning element to t.size (which is 100). Let's create one more data set to work with using some more of NumPy's functions (sin and pi). "
   ]
  },
  {
   "cell_type": "code",
   "execution_count": 27,
   "metadata": {
    "collapsed": false
   },
   "outputs": [],
   "source": [
    "ss = 0.1 * np.sin(2*np.pi*t)+r_dat"
   ]
  },
  {
   "cell_type": "markdown",
   "metadata": {},
   "source": [
    "What does all of this generated data look like? Why don't we make five different plots to highlight some different plotting capabilities.\n",
    "\n",
    "First, we will define a plotting space, but instead of showing the plot this time, we are going to plot some more values. First, we will plot the magnitude spectrum of the generated data with a linear scale and a dB (logarithmic) scale. This can all be done within matplotlib. Next, We can easily show the wrapped and unwrapped phase spectrum. "
   ]
  },
  {
   "cell_type": "markdown",
   "metadata": {},
   "source": [
    "The 'subplot' command means that we want a 3 by 2 grid of plots and we want to operate on the first sextant. "
   ]
  },
  {
   "cell_type": "code",
   "execution_count": 33,
   "metadata": {
    "collapsed": false
   },
   "outputs": [
    {
     "data": {
      "image/png": "[encoded data removed]",
      "text/plain": [
       "<matplotlib.figure.Figure at 0x10d0b2ac8>"
      ]
     },
     "metadata": {},
     "output_type": "display_data"
    }
   ],
   "source": [
    "plt.subplot(3,2,1)\n",
    "plt.plot(t,ss)\n",
    "\n",
    "plt.subplot(3,2,3)\n",
    "plt.magnitude_spectrum(ss, Fs=Fs)\n",
    "\n",
    "plt.subplot(3,2,4)\n",
    "plt.magnitude_spectrum(ss, Fs=Fs, scale='dB')\n",
    "\n",
    "plt.subplot(3,2,5)\n",
    "plt.angle_spectrum(ss, Fs=Fs)\n",
    "\n",
    "plt.subplot(3,2,6)\n",
    "plt.phase_spectrum(ss, Fs=Fs)\n",
    "plt.tight_layout()\n",
    "plt.show()"
   ]
  },
  {
   "cell_type": "markdown",
   "metadata": {},
   "source": [
    "Using matplotlib, we can showcase our generated data set in several different ways. Of course this is just an example and there are many more types of plots that matplotlib can generate. "
   ]
  },
  {
   "cell_type": "markdown",
   "metadata": {
    "collapsed": true
   },
   "source": [
    "# Basic Programming Techniques in Python\n",
    "\n",
    "To showcase some other basic programming techniques using the skills we just learned, lets analytically calculate $\\pi$. \n",
    "\n",
    "The easiest way of doing this is using the Monty Carlo Method through finding random points inside a circle inscribed in a square. \n"
   ]
  },
  {
   "cell_type": "code",
   "execution_count": 34,
   "metadata": {
    "collapsed": true
   },
   "outputs": [],
   "source": [
    "import numpy as np"
   ]
  },
  {
   "cell_type": "markdown",
   "metadata": {},
   "source": [
    "Next, we will initialize our counting variables"
   ]
  },
  {
   "cell_type": "code",
   "execution_count": 35,
   "metadata": {
    "collapsed": true
   },
   "outputs": [],
   "source": [
    "total =0\n",
    "inside =0"
   ]
  },
  {
   "cell_type": "markdown",
   "metadata": {},
   "source": [
    "Now we will set up a for-loop to calculate our points. Loops in Python are a bit different than in IDL. First, Notice that in Python loops are tab delimited. Unlike IDL there is no need for 'begin' and 'end' statements since the tabbing indicates where the loop starts and ends. "
   ]
  },
  {
   "cell_type": "code",
   "execution_count": 36,
   "metadata": {
    "collapsed": false
   },
   "outputs": [],
   "source": [
    "for ii in range (10000):\n",
    "    x_coord = np.random.uniform()\n",
    "    y_coord = np.random.uniform()\n",
    "    \n",
    "    r=np.sqrt(x_coord**2 + y_coord**2)\n",
    "    \n",
    "    if r< 1:\n",
    "        inside += 1\n",
    "    total += 1\n"
   ]
  },
  {
   "cell_type": "markdown",
   "metadata": {},
   "source": [
    "You will see somethig else too: the variable we are iterating over, 'ii', is nowhere to be found in the loop. This is because the iteration of 'ii' over the list that the range( ) function produces is implicit. We can make the interation explicit using a slightly different syntax. "
   ]
  },
  {
   "cell_type": "code",
   "execution_count": 37,
   "metadata": {
    "collapsed": false
   },
   "outputs": [
    {
     "name": "stdout",
     "output_type": "stream",
     "text": [
      "Pi= 3.128\n"
     ]
    }
   ],
   "source": [
    "print('Pi=', 4.0*inside/(1.0*total))"
   ]
  },
  {
   "cell_type": "markdown",
   "metadata": {},
   "source": [
    "In this case, 'iteration' now contains the iteration number (0,1,...,9999) while ii contains what ever is in the list at that iteration. This could be any data type. To drive this point home, let's show a trivial example:"
   ]
  },
  {
   "cell_type": "code",
   "execution_count": 40,
   "metadata": {
    "collapsed": false
   },
   "outputs": [
    {
     "name": "stdout",
     "output_type": "stream",
     "text": [
      "j\n",
      "a\n",
      "c\n",
      "k\n",
      "0 M\n",
      "1 i\n",
      "2 k\n",
      "3 e\n"
     ]
    }
   ],
   "source": [
    "for value in \"jack\":\n",
    "    print(value)\n",
    "\n",
    "for iteration, value in enumerate('Mike'):\n",
    "    print(iteration, value)"
   ]
  },
  {
   "cell_type": "markdown",
   "metadata": {},
   "source": [
    "A few other things to notice: we are using np.random again, as well as np.sqrt. To define an exponent python uses a double astrix. We also encounter an if statement. For conditionals, python drops the 'then' from the statement and uses tabbing to denote the begining and ending.  "
   ]
  },
  {
   "cell_type": "markdown",
   "metadata": {},
   "source": [
    "# Writing A Function\n",
    "\n",
    "Lets take this same python script and make it into a simple function we can iterate over. "
   ]
  },
  {
   "cell_type": "code",
   "execution_count": 41,
   "metadata": {
    "collapsed": true
   },
   "outputs": [],
   "source": [
    "import numpy as np"
   ]
  },
  {
   "cell_type": "code",
   "execution_count": 42,
   "metadata": {
    "collapsed": true
   },
   "outputs": [],
   "source": [
    "def pitest():\n",
    "    xtemp = np.random.uniform()\n",
    "    ytemp= np.random.uniform()\n",
    "    \n",
    "    r = np.sqrt(xtemp**2 + ytemp**2)\n",
    "    \n",
    "    if r < 1:\n",
    "        return True\n",
    "    return False"
   ]
  },
  {
   "cell_type": "markdown",
   "metadata": {},
   "source": [
    "The Python syntax for functions use the same tabbing to start and end the function that loops and conditional statemetns do. This particular function pitest( ) does not have any variable input, but if it did, it would go in the parenthesis. Now let's put the new function in a loop and see how it works:"
   ]
  },
  {
   "cell_type": "code",
   "execution_count": 43,
   "metadata": {
    "collapsed": false
   },
   "outputs": [
    {
     "name": "stdout",
     "output_type": "stream",
     "text": [
      "Pi= 3.1492\n"
     ]
    }
   ],
   "source": [
    "count = 0\n",
    "inside =0\n",
    "\n",
    "for i in range(10000):\n",
    "    \n",
    "    is_inside = pitest ()\n",
    "    \n",
    "    inside += is_inside\n",
    "    count += 1.\n",
    "print('Pi=', ((inside/count)*4.))"
   ]
  },
  {
   "cell_type": "markdown",
   "metadata": {},
   "source": [
    "Python has boolean data types, **True** and **False**.  These are also understood to have the integer values 1 and 0 respectively. "
   ]
  },
  {
   "cell_type": "markdown",
   "metadata": {
    "collapsed": false
   },
   "source": [
    "# Running Your Own Function\n",
    "So now I have writen a script, how do I run it from the command line? Let's say that the function we wrote, 'pitest,' is saved with the name 'Pifunction.py'. First, change to the directory where your program is located. "
   ]
  },
  {
   "cell_type": "raw",
   "metadata": {
    "collapsed": true
   },
   "source": [
    "cd /Users/mkirk/code/python\n",
    "\n",
    "import Pifunction as PF\n",
    "PF.pitest()"
   ]
  },
  {
   "cell_type": "markdown",
   "metadata": {},
   "source": [
    "Then import the name of your script. "
   ]
  },
  {
   "cell_type": "raw",
   "metadata": {},
   "source": []
  },
  {
   "cell_type": "markdown",
   "metadata": {},
   "source": [
    "And then run your function like we have all along:"
   ]
  },
  {
   "cell_type": "raw",
   "metadata": {},
   "source": []
  },
  {
   "cell_type": "code",
   "execution_count": null,
   "metadata": {
    "collapsed": true
   },
   "outputs": [],
   "source": []
  },
  {
   "cell_type": "code",
   "execution_count": null,
   "metadata": {
    "collapsed": true
   },
   "outputs": [],
   "source": []
  }
 ],
 "metadata": {
  "anaconda-cloud": {},
  "kernelspec": {
   "display_name": "Python [conda root]",
   "language": "python",
   "name": "conda-root-py"
  },
  "language_info": {
   "codemirror_mode": {
    "name": "ipython",
    "version": 3
   },
   "file_extension": ".py",
   "mimetype": "text/x-python",
   "name": "python",
   "nbconvert_exporter": "python",
   "pygments_lexer": "ipython3",
   "version": "3.5.2"
  }
 },
 "nbformat": 4,
 "nbformat_minor": 0
}
