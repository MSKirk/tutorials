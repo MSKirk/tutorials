{
 "cells": [
  {
   "cell_type": "code",
   "execution_count": 103,
   "metadata": {},
   "outputs": [],
   "source": [
    "%matplotlib inline"
   ]
  },
  {
   "cell_type": "markdown",
   "metadata": {},
   "source": [
    "# Solar Data Processing with Python Part II\n",
    "\n",
    "Now we have a grasp of the basics of python, but the whole reason for downloading python in the first place was to analyze solar data. Let's take a closer look at examples of solar data analysis. \n",
    "\n",
    "We will be using SunPy to access solar data. SunPy is a python package designed to interface between the powerful tools that exist in other Python Libraries with current repositories of solar data. With SunPy we will show how to: download solar data sets from the VSO, calibrate to industry standards, plot and overlay a time series. "
   ]
  },
  {
   "cell_type": "markdown",
   "metadata": {
    "collapsed": true
   },
   "source": [
    "# Fitting A Gaussian to a Spectral Line\n",
    "\n",
    "\n",
    "One of the most common data types in solar data processing is a time series. A time series is a measurement of how one physical parameter changes as a function of time. This example shows how to fit a gaussian to a spectral line. In this example, it will be as \"real world\" as possible.\n",
    "\n",
    "First, let's import some useful libraries. "
   ]
  },
  {
   "cell_type": "code",
   "execution_count": 110,
   "metadata": {},
   "outputs": [],
   "source": [
    "from datetime import datetime, timedelta #we saw these in the last tutorial\n",
    "\n",
    "import numpy as np \n",
    "from astropy.io import fits #how to read .fits files\n",
    "from astropy.modeling import models, fitting #some handy fitting tools from astropy\n",
    "import matplotlib.pyplot as plt \n",
    "from scipy.integrate import trapz #numerical itegration tool\n",
    "import astropy.units as u #units!!"
   ]
  },
  {
   "cell_type": "markdown",
   "metadata": {
    "collapsed": true
   },
   "source": [
    "Next we need to load in the data set we want to work with:"
   ]
  },
  {
   "cell_type": "code",
   "execution_count": 111,
   "metadata": {
    "collapsed": true
   },
   "outputs": [],
   "source": [
    "filename = '/Users/mskirk/Documents/Conferences/SDO 2016/EVS_L2_2011045_01_005_01.fits'"
   ]
  },
  {
   "cell_type": "code",
   "execution_count": 112,
   "metadata": {},
   "outputs": [],
   "source": [
    "hdulist = fits.open(filename)"
   ]
  },
  {
   "cell_type": "markdown",
   "metadata": {},
   "source": [
    "So what did we get when we opened the file? Let's take a look:"
   ]
  },
  {
   "cell_type": "code",
   "execution_count": 113,
   "metadata": {},
   "outputs": [
    {
     "data": {
      "text/plain": [
       "4"
      ]
     },
     "execution_count": 113,
     "metadata": {},
     "output_type": "execute_result"
    }
   ],
   "source": [
    "len(hdulist)"
   ]
  },
  {
   "cell_type": "markdown",
   "metadata": {},
   "source": [
    "We got 4 items in the list. Lets take a look at the first one: "
   ]
  },
  {
   "cell_type": "code",
   "execution_count": 114,
   "metadata": {},
   "outputs": [
    {
     "data": {
      "text/plain": [
       "SIMPLE  =                    T /Dummy Created by MWRFITS v1.11                  \n",
       "BITPIX  =                    8 /Dummy primary header created by MWRFITS         \n",
       "NAXIS   =                    0 /No data is associated with this header          \n",
       "EXTEND  =                    T /Extensions may (will!) be present               "
      ]
     },
     "execution_count": 114,
     "metadata": {},
     "output_type": "execute_result"
    }
   ],
   "source": [
    "hdulist[0].header"
   ]
  },
  {
   "cell_type": "markdown",
   "metadata": {},
   "source": [
    "This doesn't contain any useful information. Let's take a look at the second item:"
   ]
  },
  {
   "cell_type": "code",
   "execution_count": 115,
   "metadata": {},
   "outputs": [
    {
     "data": {
      "text/plain": [
       "XTENSION= 'BINTABLE'           /Binary table written by MWRFITS v1.11           \n",
       "BITPIX  =                    8 /Required value                                  \n",
       "NAXIS   =                    2 /Required value                                  \n",
       "NAXIS1  =                    8 /Number of bytes per row                         \n",
       "NAXIS2  =                 5200 /Number of rows                                  \n",
       "PCOUNT  =                    0 /Normally 0 (no varying arrays)                  \n",
       "GCOUNT  =                    1 /Required value                                  \n",
       "TFIELDS =                    2 /Number of columns in table                      \n",
       "COMMENT                                                                         \n",
       "COMMENT  *** End of mandatory fields ***                                        \n",
       "COMMENT                                                                         \n",
       "EXTNAME = 'SpectrumMeta'                                                        \n",
       "TUNIT1  = 'nm'                                                                  \n",
       "COMMENT                                                                         \n",
       "COMMENT  *** Column names ***                                                   \n",
       "COMMENT                                                                         \n",
       "TTYPE1  = 'WAVELENGTH'         /                                                \n",
       "TTYPE2  = 'ACCURACY'           /                                                \n",
       "COMMENT                                                                         \n",
       "COMMENT  *** Column formats ***                                                 \n",
       "COMMENT                                                                         \n",
       "TFORM1  = 'E       '           /                                                \n",
       "TFORM2  = 'E       '           /                                                \n",
       "COMMENT  Wavelength (nm) is the center value of each bin in the Spectrum table  \n",
       "COMMENT  Accuracy is the relative accuracy of the entire MEGS measurement at    \n",
       "COMMENT    each wavelength.                                                     "
      ]
     },
     "execution_count": 115,
     "metadata": {},
     "output_type": "execute_result"
    }
   ],
   "source": [
    "hdulist[1].header"
   ]
  },
  {
   "cell_type": "markdown",
   "metadata": {},
   "source": [
    "Alright, now we are getting somewhere. This has wavelength information in units of 'nm' and accuracy information without units. Let's take a look at the other elements of the list we got:"
   ]
  },
  {
   "cell_type": "code",
   "execution_count": 116,
   "metadata": {},
   "outputs": [
    {
     "data": {
      "text/plain": [
       "XTENSION= 'BINTABLE'           /Binary table written by MWRFITS v1.11           \n",
       "BITPIX  =                    8 /Required value                                  \n",
       "NAXIS   =                    2 /Required value                                  \n",
       "NAXIS1  =                  786 /Number of bytes per row                         \n",
       "NAXIS2  =                    1 /Number of rows                                  \n",
       "PCOUNT  =                    0 /Normally 0 (no varying arrays)                  \n",
       "GCOUNT  =                    1 /Required value                                  \n",
       "TFIELDS =                   10 /Number of columns in table                      \n",
       "COMMENT                                                                         \n",
       "COMMENT  *** End of mandatory fields ***                                        \n",
       "COMMENT                                                                         \n",
       "EXTNAME = 'SpectrumUnits'                                                       \n",
       "COMMENT                                                                         \n",
       "COMMENT  *** Column names ***                                                   \n",
       "COMMENT                                                                         \n",
       "TTYPE1  = 'TAI     '           /                                                \n",
       "TTYPE2  = 'YYYYDOY '           /                                                \n",
       "TTYPE3  = 'SOD     '           /                                                \n",
       "TTYPE4  = 'FLAGS   '           /                                                \n",
       "TTYPE5  = 'SC_FLAGS'           /                                                \n",
       "TTYPE6  = 'INT_TIME'           /                                                \n",
       "TTYPE7  = 'IRRADIANCE'         /                                                \n",
       "TTYPE8  = 'COUNT_RATE'         /                                                \n",
       "TTYPE9  = 'PRECISION'          /                                                \n",
       "TTYPE10 = 'BIN_FLAGS'          /                                                \n",
       "COMMENT                                                                         \n",
       "COMMENT  *** Column formats ***                                                 \n",
       "COMMENT                                                                         \n",
       "TFORM1  = '87A     '           /                                                \n",
       "TFORM2  = '68A     '           /                                                \n",
       "TFORM3  = '65A     '           /                                                \n",
       "TFORM4  = '55A     '           /                                                \n",
       "TFORM5  = '87A     '           /                                                \n",
       "TFORM6  = '39A     '           /                                                \n",
       "TFORM7  = '149A    '           /                                                \n",
       "TFORM8  = '61A     '           /                                                \n",
       "TFORM9  = '122A    '           /                                                \n",
       "TFORM10 = '53A     '           /                                                \n",
       "COMMENT  First element is unit                                                  \n",
       "COMMENT  Other elements are brief descriptions and other info                   "
      ]
     },
     "execution_count": 116,
     "metadata": {},
     "output_type": "execute_result"
    }
   ],
   "source": [
    "hdulist[2].header"
   ]
  },
  {
   "cell_type": "code",
   "execution_count": 117,
   "metadata": {},
   "outputs": [
    {
     "data": {
      "text/plain": [
       "XTENSION= 'BINTABLE'           /Binary table written by MWRFITS v1.11           \n",
       "BITPIX  =                    8 /Required value                                  \n",
       "NAXIS   =                    2 /Required value                                  \n",
       "NAXIS1  =                67630 /Number of bytes per row                         \n",
       "NAXIS2  =                  360 /Number of rows                                  \n",
       "PCOUNT  =                    0 /Normally 0 (no varying arrays)                  \n",
       "GCOUNT  =                    1 /Required value                                  \n",
       "TFIELDS =                   10 /Number of columns in table                      \n",
       "COMMENT                                                                         \n",
       "COMMENT  *** End of mandatory fields ***                                        \n",
       "COMMENT                                                                         \n",
       "ORIGIN  = '            SDO/EVE SPOC' // LASP, University of Colorado, Boulder   \n",
       "DATE    = '2014-12-03T15:32:19.000Z' // UTC file creation time (per ISO8601)    \n",
       "TAI_OBS =            1676336446.501 // TAI time at start of obs                 \n",
       "DATE_OBS= '2011-02-14T01:00:12.501Z' // UTC at start of obs                     \n",
       "T_OBS   = '2011-02-14T01:00:17.501Z' // UTC at center of obs                    \n",
       "EXPTIME =                    10.000 // seconds exposed, or integration time     \n",
       "TIME    =                  3612.501 // UTC seconds of day at start of obs       \n",
       "TELESCOP= '            SDO/EVE'                                                 \n",
       "INSTRUME= '        EVE_MEGS'                                                    \n",
       "VERSION =                        05 // major code/cal version                   \n",
       "REVISION=                         1 // reprocess number                         \n",
       "FILENAME= 'EVS_L2_2011045_01_005_01.fit'                                        \n",
       "COMMENT                                                                         \n",
       "COMMENT  *** Column names ***                                                   \n",
       "COMMENT                                                                         \n",
       "TTYPE1  = 'TAI     '           /                                                \n",
       "TTYPE2  = 'YYYYDOY '           /                                                \n",
       "TTYPE3  = 'SOD     '           /                                                \n",
       "TTYPE4  = 'FLAGS   '           /                                                \n",
       "TTYPE5  = 'SC_FLAGS'           /                                                \n",
       "TTYPE6  = 'INT_TIME'           /                                                \n",
       "TTYPE7  = 'IRRADIANCE'         /                                                \n",
       "TTYPE8  = 'COUNT_RATE'         /                                                \n",
       "TTYPE9  = 'PRECISION'          /                                                \n",
       "TTYPE10 = 'BIN_FLAGS'          /                                                \n",
       "COMMENT                                                                         \n",
       "COMMENT  *** Column formats ***                                                 \n",
       "COMMENT                                                                         \n",
       "TFORM1  = 'D       '           /                                                \n",
       "TFORM2  = 'J       '           /                                                \n",
       "TFORM3  = 'D       '           /                                                \n",
       "TFORM4  = 'B       '           /                                                \n",
       "TFORM5  = 'B       '           /                                                \n",
       "TFORM6  = 'D       '           /                                                \n",
       "TFORM7  = '5200E   '           /                                                \n",
       "TFORM8  = '5200E   '           /                                                \n",
       "TFORM9  = '5200E   '           /                                                \n",
       "TFORM10 = '5200B   '           /                                                \n",
       "COMMENT Website reference http://lasp.colorado.edu/home/eve                     \n",
       "COMMENT EVE Principal Investigator T. N. Woods                                  \n",
       "COMMENT Laboratory for Atmospheric and Space Physics                            \n",
       "COMMENT 1234 Innovation Drive, Boulder, CO 80303                                \n",
       "COMMENT SDO Mission scientific and model results are open to all.               \n",
       "COMMENT Users should contact the PI or designated EVE team member early in an   \n",
       "COMMENT analysis project to discuss appropriate use of instrument data results. \n",
       "COMMENT Appropriate acknowledgement to institutions, personnel, and funding     \n",
       "COMMENT agencies should be given. Version numbers should also be specified.     \n",
       "COMMENT Pre-prints of publications and conference abstracts should be widely    \n",
       "COMMENT distributed to interested parties within the mission.                   \n",
       "EXTNAME = 'Spectrum'                                                            \n",
       "COMMENT  Wavelength scale is as described in SpectrumMeta table                 \n",
       "COMMENT  Count_Rate is the dark corrected counts per second per pixel           \n",
       "COMMENT    for pixels determined to be within the wavelength bin.               \n",
       "COMMENT  Data from short wavelengths up to and including 17.24 nm               \n",
       "COMMENT    are from MEGS-A slit 1. Data from above that point to 37.00 nm       \n",
       "COMMENT    are from MEGS-A slit 2. Data above that point are from MEGS-B.       \n",
       "COMMENT  MEGS-B has reduced exposure time to increase detector life.            \n",
       "COMMENT  Values in FLAGS field are the bitwise OR of these values.              \n",
       "COMMENT  Bit 0 (value    1) - MEGS-A data is missing                            \n",
       "COMMENT  Bit 1 (value    2) - MEGS-B data is missing                            \n",
       "COMMENT  Values in SC_FLAGS field are the bitwise OR of these values.           \n",
       "COMMENT  Bit 0 (value    1) - 4-bit obstruction indicator (0 is no obstruction) \n",
       "COMMENT  Bit 1 (value    2) - 4-bit obstruction indicator (0 is no obstruction) \n",
       "COMMENT  Bit 2 (value    4) - 4-bit obstruction indicator (0 is no obstruction) \n",
       "COMMENT  Bit 3 (value    8) - 4-bit obstruction indicator (0 is no obstruction) \n",
       "COMMENT  Bit 4 (value   16) - Observatory is off-pointed by more than 1 arcmin  \n",
       "COMMENT  Obstruction flag values:                                               \n",
       "COMMENT  Value 0 No obstruction                                                 \n",
       "COMMENT  Value 1 Warmup from Earth eclipse                                      \n",
       "COMMENT  Value 2 Atmosphere penumbra                                            \n",
       "COMMENT  Value 3 Atmosphere umbra                                               \n",
       "COMMENT  Value 4 Penumbra of Mercury                                            \n",
       "COMMENT  Value 5 Umbra of Mercury                                               \n",
       "COMMENT  Value 6 Penumbra of Venus                                              \n",
       "COMMENT  Value 7 Umbra of Venus                                                 \n",
       "COMMENT  Value 8 Penumbra of Moon                                               \n",
       "COMMENT  Value 9 Umbra of Moon                                                  \n",
       "COMMENT  Value 10 Penumbra of solid Earth                                       \n",
       "COMMENT  Value 11 Umbra of solid Earth                                          \n",
       "COMMENT  If more than one obstruction is taking place, only                     \n",
       "COMMENT  the highest-numbered one will be indicated.                            "
      ]
     },
     "execution_count": 117,
     "metadata": {},
     "output_type": "execute_result"
    }
   ],
   "source": [
    "hdulist[3].header"
   ]
  },
  {
   "cell_type": "markdown",
   "metadata": {},
   "source": [
    "So it looks like we are working with some wavelength data, spectral information, irradiance data, etc. "
   ]
  },
  {
   "cell_type": "markdown",
   "metadata": {},
   "source": [
    "# Plotting Spectral Data\n",
    "Let's take a look at some of the data we've got. "
   ]
  },
  {
   "cell_type": "code",
   "execution_count": 118,
   "metadata": {},
   "outputs": [
    {
     "data": {
      "text/plain": [
       "5200"
      ]
     },
     "execution_count": 118,
     "metadata": {},
     "output_type": "execute_result"
    }
   ],
   "source": [
    "len(hdulist[1].data)"
   ]
  },
  {
   "cell_type": "code",
   "execution_count": 119,
   "metadata": {},
   "outputs": [
    {
     "data": {
      "text/plain": [
       "array([   3.00999999,    3.02999997,    3.04999995, ...,  106.94999695,\n",
       "        106.97000122,  106.98999786], dtype=float32)"
      ]
     },
     "execution_count": 119,
     "metadata": {},
     "output_type": "execute_result"
    }
   ],
   "source": [
    "hdulist[1].data[\"WAVELENGTH\"]"
   ]
  },
  {
   "cell_type": "code",
   "execution_count": 120,
   "metadata": {},
   "outputs": [
    {
     "data": {
      "text/plain": [
       "360"
      ]
     },
     "execution_count": 120,
     "metadata": {},
     "output_type": "execute_result"
    }
   ],
   "source": [
    "len(hdulist[3].data)"
   ]
  },
  {
   "cell_type": "code",
   "execution_count": 121,
   "metadata": {},
   "outputs": [
    {
     "data": {
      "text/plain": [
       "array([-1., -1., -1., ..., -1., -1., -1.], dtype=float32)"
      ]
     },
     "execution_count": 121,
     "metadata": {},
     "output_type": "execute_result"
    }
   ],
   "source": [
    "hdulist[3].data[0][\"IRRADIANCE\"]"
   ]
  },
  {
   "cell_type": "code",
   "execution_count": 122,
   "metadata": {},
   "outputs": [
    {
     "data": {
      "text/plain": [
       "(5, 40)"
      ]
     },
     "execution_count": 122,
     "metadata": {},
     "output_type": "execute_result"
    },
    {
     "data": {
      "image/png": "[encoded data removed]",
      "text/plain": [
       "<matplotlib.figure.Figure at 0x10c34c050>"
      ]
     },
     "metadata": {},
     "output_type": "display_data"
    }
   ],
   "source": [
    "plt.plot(hdulist[1].data[\"WAVELENGTH\"], hdulist[3].data[0][\"IRRADIANCE\"])\n",
    "plt.ylim(0, 0.007)\n",
    "plt.xlim(5, 40)"
   ]
  },
  {
   "cell_type": "markdown",
   "metadata": {},
   "source": [
    "So now we have a plot of wavelength vs. irradiance. We can see there is one major spike in the data. Let's filter the data so that we just have that one spike. "
   ]
  },
  {
   "cell_type": "code",
   "execution_count": 123,
   "metadata": {
    "collapsed": true
   },
   "outputs": [],
   "source": [
    "w = np.logical_and(hdulist[1].data[\"WAVELENGTH\"] > 30.2, hdulist[1].data[\"WAVELENGTH\"] < 30.6)"
   ]
  },
  {
   "cell_type": "code",
   "execution_count": 124,
   "metadata": {},
   "outputs": [
    {
     "data": {
      "text/plain": [
       "array([False, False, False, ..., False, False, False], dtype=bool)"
      ]
     },
     "execution_count": 124,
     "metadata": {},
     "output_type": "execute_result"
    }
   ],
   "source": [
    "w"
   ]
  },
  {
   "cell_type": "markdown",
   "metadata": {},
   "source": [
    "This function, \"np.logical_and\", is similar to a \"where\" statement in IDL. We can see that \"w\" is now an array of true and false values. To take a subsection of our data where our filter is true:"
   ]
  },
  {
   "cell_type": "code",
   "execution_count": 125,
   "metadata": {
    "collapsed": true
   },
   "outputs": [],
   "source": [
    "wavelength = hdulist[1].data[\"WAVELENGTH\"][w]"
   ]
  },
  {
   "cell_type": "code",
   "execution_count": 126,
   "metadata": {},
   "outputs": [
    {
     "data": {
      "text/plain": [
       "array([ 30.20999908,  30.22999954,  30.25      ,  30.27000046,\n",
       "        30.29000092,  30.30999947,  30.32999992,  30.35000038,\n",
       "        30.37000084,  30.38999939,  30.40999985,  30.43000031,\n",
       "        30.45000076,  30.46999931,  30.48999977,  30.51000023,\n",
       "        30.53000069,  30.54999924,  30.56999969,  30.59000015], dtype=float32)"
      ]
     },
     "execution_count": 126,
     "metadata": {},
     "output_type": "execute_result"
    }
   ],
   "source": [
    "wavelength"
   ]
  },
  {
   "cell_type": "markdown",
   "metadata": {},
   "source": [
    "Now, we need to add some units to this data. The header of the file tells us what the units are:"
   ]
  },
  {
   "cell_type": "code",
   "execution_count": 127,
   "metadata": {
    "collapsed": true
   },
   "outputs": [],
   "source": [
    "wavelength = u.Quantity(wavelength, unit=\"nm\")"
   ]
  },
  {
   "cell_type": "markdown",
   "metadata": {},
   "source": [
    "Let's do the same thing to the irradiance data. "
   ]
  },
  {
   "cell_type": "code",
   "execution_count": 128,
   "metadata": {
    "collapsed": true
   },
   "outputs": [],
   "source": [
    "irr = hdulist[3].data[0][\"IRRADIANCE\"][w]"
   ]
  },
  {
   "cell_type": "code",
   "execution_count": 129,
   "metadata": {
    "collapsed": true
   },
   "outputs": [],
   "source": [
    "irr = u.Quantity(irr, unit=\"W/m**2\")"
   ]
  },
  {
   "cell_type": "markdown",
   "metadata": {},
   "source": [
    "What have we got? Let's plot it and take a look:"
   ]
  },
  {
   "cell_type": "code",
   "execution_count": 130,
   "metadata": {},
   "outputs": [
    {
     "data": {
      "text/plain": [
       "[<matplotlib.lines.Line2D at 0x120092350>]"
      ]
     },
     "execution_count": 130,
     "metadata": {},
     "output_type": "execute_result"
    },
    {
     "data": {
      "image/png": "[encoded data removed]",
      "text/plain": [
       "<matplotlib.figure.Figure at 0x1185b0910>"
      ]
     },
     "metadata": {},
     "output_type": "display_data"
    }
   ],
   "source": [
    "plt.plot(wavelength, irr, 'o')"
   ]
  },
  {
   "cell_type": "markdown",
   "metadata": {},
   "source": [
    "# Fit He II 304 line with a Gaussian\n",
    "\n",
    "Now that we have extracted the He II line from our total spectrum, we want to fit it with a gaussian. Do do this we will make use of a couple of packages in in astropy. We will initialize the gaussian fit with some approximations (max, center, FWHM): "
   ]
  },
  {
   "cell_type": "code",
   "execution_count": 131,
   "metadata": {
    "collapsed": true
   },
   "outputs": [],
   "source": [
    "g_init = models.Gaussian1D(0.007, 30.4, .2)"
   ]
  },
  {
   "cell_type": "markdown",
   "metadata": {},
   "source": [
    "Now let's define a fitting method and produce a fit:"
   ]
  },
  {
   "cell_type": "code",
   "execution_count": 132,
   "metadata": {
    "collapsed": true
   },
   "outputs": [],
   "source": [
    "fit_g = fitting.LevMarLSQFitter()"
   ]
  },
  {
   "cell_type": "code",
   "execution_count": 133,
   "metadata": {
    "collapsed": true
   },
   "outputs": [],
   "source": [
    "g = fit_g(g_init, wavelength, irr)"
   ]
  },
  {
   "cell_type": "markdown",
   "metadata": {},
   "source": [
    "Let's take a look at some of the qualities of our fitted gaussian:"
   ]
  },
  {
   "cell_type": "code",
   "execution_count": 134,
   "metadata": {},
   "outputs": [
    {
     "data": {
      "text/plain": [
       "Parameter('mean', value=30.3733491452)"
      ]
     },
     "execution_count": 134,
     "metadata": {},
     "output_type": "execute_result"
    }
   ],
   "source": [
    "g.mean"
   ]
  },
  {
   "cell_type": "code",
   "execution_count": 135,
   "metadata": {},
   "outputs": [
    {
     "data": {
      "text/plain": [
       "Parameter('stddev', value=0.029547785343)"
      ]
     },
     "execution_count": 135,
     "metadata": {},
     "output_type": "execute_result"
    }
   ],
   "source": [
    "g.stddev"
   ]
  },
  {
   "cell_type": "code",
   "execution_count": 136,
   "metadata": {},
   "outputs": [
    {
     "data": {
      "text/plain": [
       "Parameter('amplitude', value=0.00651223358276)"
      ]
     },
     "execution_count": 136,
     "metadata": {},
     "output_type": "execute_result"
    }
   ],
   "source": [
    "g.amplitude"
   ]
  },
  {
   "cell_type": "code",
   "execution_count": 137,
   "metadata": {},
   "outputs": [
    {
     "data": {
      "text/plain": [
       "<Gaussian1D(amplitude=0.006512233582758824, mean=30.373349145178118, stddev=0.029547785343013666)>"
      ]
     },
     "execution_count": 137,
     "metadata": {},
     "output_type": "execute_result"
    }
   ],
   "source": [
    "g"
   ]
  },
  {
   "cell_type": "markdown",
   "metadata": {},
   "source": [
    "Our guesses wern't too bad, but we over estimated the Standard Deviation by about a factor of 10. The variable 'g' has the fitted parameters of our gaussian but it doesn't actually contain an array. To plot it over the data, we need to create an array of values. We will make an array from 30.2 to 30.6 with 1000 points in it. "
   ]
  },
  {
   "cell_type": "code",
   "execution_count": 138,
   "metadata": {
    "collapsed": true
   },
   "outputs": [],
   "source": [
    "x = np.linspace(30.2, 30.6, 1000)"
   ]
  },
  {
   "cell_type": "markdown",
   "metadata": {},
   "source": [
    "To find the values of our fit at each location, it is easy:"
   ]
  },
  {
   "cell_type": "code",
   "execution_count": 139,
   "metadata": {
    "collapsed": true
   },
   "outputs": [],
   "source": [
    "y = g(x)"
   ]
  },
  {
   "cell_type": "markdown",
   "metadata": {},
   "source": [
    "Now we can plot it:"
   ]
  },
  {
   "cell_type": "code",
   "execution_count": 140,
   "metadata": {},
   "outputs": [
    {
     "data": {
      "text/plain": [
       "[<matplotlib.lines.Line2D at 0x12085b090>]"
      ]
     },
     "execution_count": 140,
     "metadata": {},
     "output_type": "execute_result"
    },
    {
     "data": {
      "image/png": "[encoded data removed]",
      "text/plain": [
       "<matplotlib.figure.Figure at 0x12085b990>"
      ]
     },
     "metadata": {},
     "output_type": "display_data"
    }
   ],
   "source": [
    "plt.plot(wavelength, irr, 'o')\n",
    "plt.plot(x, y)"
   ]
  },
  {
   "cell_type": "markdown",
   "metadata": {},
   "source": [
    "# Ingegrating under the curve. \n",
    "\n",
    "Let's find the area under the curve we just created. We can numerically integrate it easily:"
   ]
  },
  {
   "cell_type": "code",
   "execution_count": 141,
   "metadata": {
    "collapsed": true
   },
   "outputs": [],
   "source": [
    "intensity = trapz(y,x)"
   ]
  },
  {
   "cell_type": "code",
   "execution_count": 142,
   "metadata": {},
   "outputs": [
    {
     "data": {
      "text/plain": [
       "0.00048233062533621857"
      ]
     },
     "execution_count": 142,
     "metadata": {},
     "output_type": "execute_result"
    }
   ],
   "source": [
    "intensity"
   ]
  },
  {
   "cell_type": "markdown",
   "metadata": {},
   "source": [
    "# Produce a Light Curve of He II 304 From All Spectra in File\n",
    "\n",
    "The file we downloaded is a hyper-spectrum. This means that the spectrum changes over time. Can we find how the intensity of the line changes over time using the same fitting tools that we just showcased? Sure, we just need to put everything into a loop. "
   ]
  },
  {
   "cell_type": "code",
   "execution_count": 143,
   "metadata": {
    "collapsed": true
   },
   "outputs": [],
   "source": [
    "x = np.linspace(30.2, 30.6, 1000) #define our wavelength array\n",
    "intensity = [] # initialize the intensity array\n",
    "w = np.logical_and(hdulist[1].data[\"WAVELENGTH\"] > 30.2, hdulist[1].data[\"WAVELENGTH\"] < 30.6) # isolate the 304 line\n",
    "wavelength = hdulist[1].data[\"WAVELENGTH\"][w] # filter all of the spectra\n",
    "fit_g = fitting.LevMarLSQFitter() #fitting algorithm\n",
    "\n",
    "for spectrum in hdulist[3].data: #looping over all the spectra (360)\n",
    "    irr = spectrum[\"IRRADIANCE\"][w] #pulling out the irradiance \n",
    "    g_init = models.Gaussian1D(0.007, 30.4, .2) #initialize the gaussian fit\n",
    "    g = fit_g(g_init, wavelength, irr) #do the fitting \n",
    "    y = g(x) # create the curve\n",
    "    intensity.append(trapz(y,x)) # aggregate the results\n",
    "intensity = u.Quantity(intensity, unit=\"nm\") # adding units. "
   ]
  },
  {
   "cell_type": "code",
   "execution_count": 144,
   "metadata": {},
   "outputs": [
    {
     "data": {
      "text/plain": [
       "[<matplotlib.lines.Line2D at 0x1222f4ed0>]"
      ]
     },
     "execution_count": 144,
     "metadata": {},
     "output_type": "execute_result"
    },
    {
     "data": {
      "image/png": "[encoded data removed]",
      "text/plain": [
       "<matplotlib.figure.Figure at 0x1208ee9d0>"
      ]
     },
     "metadata": {},
     "output_type": "display_data"
    }
   ],
   "source": [
    "plt.plot(intensity)"
   ]
  },
  {
   "cell_type": "code",
   "execution_count": null,
   "metadata": {
    "collapsed": true
   },
   "outputs": [],
   "source": []
  }
 ],
 "metadata": {
  "kernelspec": {
   "display_name": "Python 3",
   "language": "python",
   "name": "python3"
  },
  "language_info": {
   "codemirror_mode": {
    "name": "ipython",
    "version": 3
   },
   "file_extension": ".py",
   "mimetype": "text/x-python",
   "name": "python",
   "nbconvert_exporter": "python",
   "pygments_lexer": "ipython3",
   "version": "3.6.6"
  }
 },
 "nbformat": 4,
 "nbformat_minor": 1
}
