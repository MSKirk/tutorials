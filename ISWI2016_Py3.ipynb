{
 "cells": [
  {
   "cell_type": "code",
   "execution_count": 1,
   "metadata": {
    "collapsed": false
   },
   "outputs": [],
   "source": [
    "%matplotlib inline"
   ]
  },
  {
   "cell_type": "markdown",
   "metadata": {},
   "source": [
    "# Solar Data Processing with Python Part II\n",
    "\n",
    "Now we have a grasp of the basics of python, but the whole reason for downloading python in the first place was to analyze solar data. Let's take a closer look at examples of solar data analysis. \n",
    "\n",
    "We will be using SunPy to access solar data. SunPy is a python package designed to interface between the powerful tools that exist in other Python Libraries with current repositories of solar data. With SunPy we will show how to: download solar data sets from the VSO, calibrate to industry standards, plot and overlay a time series. "
   ]
  },
  {
   "cell_type": "markdown",
   "metadata": {
    "collapsed": true
   },
   "source": [
    "# Fitting A Gaussian to Data.\n",
    "\n",
    "\n",
    "One of the most common data types in solar data processing is a time series. A time series is a measurement of how one physical parameter changes as a function of time. This example shows how to fit a gaussian to a spectral line. In this example, it will be as \"real world\" as possible.\n",
    "\n",
    "First, let's import some useful libraries. "
   ]
  },
  {
   "cell_type": "code",
   "execution_count": 4,
   "metadata": {
    "collapsed": false
   },
   "outputs": [],
   "source": [
    "from datetime import datetime, timedelta #we saw these in the last tutorial\n",
    "\n",
    "import numpy as np \n",
    "from astropy.io import fits #how to read .fits files\n",
    "from astropy.modeling import models, fitting #some handy fitting tools from astropy\n",
    "import matplotlib.pyplot as plt \n",
    "from scipy.integrate import trapz #numerical itegration tool\n",
    "import astropy.units as u #units!!\n",
    "import sunpy #solar data analysis tools\n",
    "import sunpy.data.sample #Data interaction tools \n",
    "sunpy.data.download_sample_data() #Download some sample data"
   ]
  },
  {
   "cell_type": "markdown",
   "metadata": {
    "collapsed": true
   },
   "source": [
    "Next we need to load in the data set we want to work with:"
   ]
  },
  {
   "cell_type": "code",
   "execution_count": 5,
   "metadata": {
    "collapsed": true
   },
   "outputs": [],
   "source": [
    "filename = sunpy.data.sample.GBM_LIGHTCURVE"
   ]
  },
  {
   "cell_type": "code",
   "execution_count": 7,
   "metadata": {
    "collapsed": false
   },
   "outputs": [],
   "source": [
    "hdulist = fits.open(filename)"
   ]
  },
  {
   "cell_type": "markdown",
   "metadata": {},
   "source": [
    "So what did we get when we opened the file? Let's take a look:"
   ]
  },
  {
   "cell_type": "code",
   "execution_count": 8,
   "metadata": {
    "collapsed": false
   },
   "outputs": [
    {
     "data": {
      "text/plain": [
       "4"
      ]
     },
     "execution_count": 8,
     "metadata": {},
     "output_type": "execute_result"
    }
   ],
   "source": [
    "len(hdulist)"
   ]
  },
  {
   "cell_type": "markdown",
   "metadata": {},
   "source": [
    "We got 4 items in the list. Lets take a look at the first one: "
   ]
  },
  {
   "cell_type": "code",
   "execution_count": 9,
   "metadata": {
    "collapsed": false
   },
   "outputs": [
    {
     "data": {
      "text/plain": [
       "SIMPLE  =                    T / file does conform to FITS standard             \n",
       "BITPIX  =                    8 / number of bits per data pixel                  \n",
       "NAXIS   =                    0 / number of data axes                            \n",
       "EXTEND  =                    T / FITS dataset may contain extensions            \n",
       "COMMENT   FITS (Flexible Image Transport System) format is defined in 'Astronomy\n",
       "COMMENT   and Astrophysics', volume 376, page 359; bibcode: 2001A&A...376..359H \n",
       "CREATOR = 'GBM_SCI_Reader.pl v1.19' / Software and version creating file        \n",
       "FILETYPE= 'PHAII   '           / Name for this type of FITS file                \n",
       "FILE-VER= '1.0.0   '           / Version of the format for this filetype        \n",
       "TELESCOP= 'GLAST   '           / Name of mission/satellite                      \n",
       "INSTRUME= 'GBM     '           / Specific instrument used for observation       \n",
       "DETNAM  = 'NAI_05  '           / Individual detector name                       \n",
       "OBSERVER= 'Meegan  '           / GLAST Burst Monitor P.I.                       \n",
       "ORIGIN  = 'GIOC    '           / Name of organization making file               \n",
       "DATE    = '2011-06-07T02:48:45' / file creation date (YYYY-MM-DDThh:mm:ss UT)   \n",
       "DATE-OBS= '2011-06-06T23:59:55' / Date of start of observation                  \n",
       "DATE-END= '2011-06-08T00:00:05' / Date of end of observation                    \n",
       "TIMESYS = 'TT      '           / Time system used in time keywords              \n",
       "TIMEUNIT= 's       '           / Time since MJDREF, used in TSTART and TSTOP    \n",
       "MJDREFI =                51910 / MJD of GLAST reference epoch, integer part     \n",
       "MJDREFF = 7.428703703703703D-4 / MJD of GLAST reference epoch, fractional part  \n",
       "TSTART  =     329097595.403286 / [GLAST MET] Observation start time             \n",
       "TSTOP   =     329184005.307830 / [GLAST MET] Observation stop time              \n",
       "FILENAME= 'glg_cspec_n5_110607_v00.pha' / Name of this file                     \n",
       "DATATYPE= 'CSPEC   '           / GBM datatype used for this file                \n",
       "INFILE01= 'glg_lutcs_nai_100716346_v00.fit' / Level 1 input lookup table file   \n",
       "INFILE02= 'GLAST_2011158_015300_VC09_GSPEC.0.00' / Level 0 input data file      \n",
       "INFILE03= 'GLAST_2011158_034700_VC09_GSPEC.0.00' / Level 0 input data file      \n",
       "INFILE04= 'GLAST_2011158_062700_VC09_GSPEC.0.00' / Level 0 input data file      \n",
       "INFILE05= 'GLAST_2011158_080800_VC09_GSPEC.0.00' / Level 0 input data file      \n",
       "INFILE06= 'GLAST_2011158_113300_VC09_GSPEC.0.00' / Level 0 input data file      \n",
       "INFILE07= 'GLAST_2011158_135000_VC09_GSPEC.0.00' / Level 0 input data file      \n",
       "INFILE08= 'GLAST_2011158_154400_VC09_GSPEC.0.00' / Level 0 input data file      \n",
       "INFILE09= 'GLAST_2011158_173100_VC09_GSPEC.0.00' / Level 0 input data file      \n",
       "INFILE10= 'GLAST_2011158_190000_VC09_GSPEC.0.00' / Level 0 input data file      \n",
       "INFILE11= 'GLAST_2011158_204200_VC09_GSPEC.0.00' / Level 0 input data file      \n",
       "INFILE12= 'GLAST_2011158_222600_VC09_GSPEC.0.00' / Level 0 input data file      \n",
       "INFILE13= 'GLAST_2011159_013000_VC09_GSPEC.0.00' / Level 0 input data file      \n",
       "INFILE14= 'GLAST_2011159_040200_VC09_GSPEC.0.00' / Level 0 input data file      \n",
       "CHECKSUM= 'TYTDWVRBTVRBTVRB'   / HDU checksum updated 2011-06-08T04:33:29       \n",
       "DATASUM = '         0'         / data unit checksum updated 2011-06-07T02:48:45 "
      ]
     },
     "execution_count": 9,
     "metadata": {},
     "output_type": "execute_result"
    }
   ],
   "source": [
    "hdulist[0].header"
   ]
  },
  {
   "cell_type": "markdown",
   "metadata": {},
   "source": [
    "It looks like this data is from the GLAST telescope measuring gamma rays. Let's take a look at the second item:"
   ]
  },
  {
   "cell_type": "code",
   "execution_count": 10,
   "metadata": {
    "collapsed": false
   },
   "outputs": [
    {
     "data": {
      "text/plain": [
       "XTENSION= 'BINTABLE'           / binary table extension                         \n",
       "BITPIX  =                    8 / 8-bit bytes                                    \n",
       "NAXIS   =                    2 / 2-dimensional binary table                     \n",
       "NAXIS1  =                   10 / width of table in bytes                        \n",
       "NAXIS2  =                  128 / number of rows in table                        \n",
       "PCOUNT  =                    0 / size of special data area                      \n",
       "GCOUNT  =                    1 / one data group (required keyword)              \n",
       "TFIELDS =                    3 / number of fields in each row                   \n",
       "TTYPE1  = 'CHANNEL '           / label for field   1                            \n",
       "TFORM1  = '1I      '           / data format of field: 2-byte INTEGER           \n",
       "TUNIT1  = 'none    '           / physical unit of field                         \n",
       "TLMIN1  =                    0 / Channel numbers are non-negative               \n",
       "TLMAX1  =                  127 / Greater than the number of channels            \n",
       "TTYPE2  = 'E_MIN   '           / label for field   2                            \n",
       "TFORM2  = '1E      '           / data format of field: 4-byte REAL              \n",
       "TUNIT2  = 'keV     '           / physical unit of field                         \n",
       "TLMIN2  =                    0 / Lowest channel energy                          \n",
       "TLMAX2  =                 2000 / Highest channel energy                         \n",
       "TTYPE3  = 'E_MAX   '           / label for field   3                            \n",
       "TFORM3  = '1E      '           / data format of field: 4-byte REAL              \n",
       "TUNIT3  = 'keV     '           / physical unit of field                         \n",
       "TLMIN3  =                    0 / Lowest channel energy                          \n",
       "TLMAX3  =                 2000 / Highest channel energy                         \n",
       "EXTNAME = 'EBOUNDS '           / name of this binary table extension            \n",
       "TELESCOP= 'GLAST   '           / Name of mission/satellite                      \n",
       "INSTRUME= 'GBM     '           / Specific instrument used for observation       \n",
       "DETNAM  = 'NAI_05  '           / Individual detector name                       \n",
       "OBSERVER= 'Meegan  '           / GLAST Burst Monitor P.I.                       \n",
       "ORIGIN  = 'GIOC    '           / Name of organization making file               \n",
       "DATE    = '2011-06-07T02:48:45' / file creation date (YYYY-MM-DDThh:mm:ss UT)   \n",
       "DATE-OBS= '2011-06-06T23:59:55' / Date of start of observation                  \n",
       "DATE-END= '2011-06-08T00:00:05' / Date of end of observation                    \n",
       "TIMESYS = 'TT      '           / Time system used in time keywords              \n",
       "TIMEUNIT= 's       '           / Time since MJDREF, used in TSTART and TSTOP    \n",
       "MJDREFI =                51910 / MJD of GLAST reference epoch, integer part     \n",
       "MJDREFF = 7.428703703703703D-4 / MJD of GLAST reference epoch, fractional part  \n",
       "TSTART  =     329097595.403286 / [GLAST MET] Observation start time             \n",
       "TSTOP   =     329184005.307830 / [GLAST MET] Observation stop time              \n",
       "HDUCLASS= 'OGIP    '           / Conforms to OGIP standard indicated in HDUCLAS1\n",
       "HDUCLAS1= 'RESPONSE'           / These are typically found in RMF files         \n",
       "HDUCLAS2= 'EBOUNDS '           / From CAL/GEN/92-002                            \n",
       "HDUVERS = '1.2.0   '           / Version of HDUCLAS1 format in use              \n",
       "CHANTYPE= 'PHA     '           / No corrections have been applied               \n",
       "FILTER  = 'None    '           / The instrument filter in use (if any)          \n",
       "DETCHANS=                  128 / Total number of channels in each rate          \n",
       "EXTVER  =                    1 / Version of this extension format               \n",
       "GBMCKSUM= 'ea20    '           / GBM FSW icrc shecksum value (hex)              \n",
       "CH2E_VER= 'SPLINE 2.0'         / Channel to energy conversion scheme used       \n",
       "GAIN_COR=                  1.0 / Gain correction factor applied to energy edges \n",
       "CHECKSUM= 'OGMYOFMVOFMVOFMV'   / HDU checksum updated 2011-06-08T04:33:29       \n",
       "DATASUM = '1439395070'         / data unit checksum updated 2011-06-07T02:48:45 "
      ]
     },
     "execution_count": 10,
     "metadata": {},
     "output_type": "execute_result"
    }
   ],
   "source": [
    "hdulist[1].header"
   ]
  },
  {
   "cell_type": "markdown",
   "metadata": {},
   "source": [
    "Alright, now we are getting somewhere. This has data in units of 'keV' and max/min measurements. Let's take a look at the other elements of the list we got:"
   ]
  },
  {
   "cell_type": "code",
   "execution_count": 11,
   "metadata": {
    "collapsed": false
   },
   "outputs": [
    {
     "data": {
      "text/plain": [
       "XTENSION= 'BINTABLE'           / binary table extension                         \n",
       "BITPIX  =                    8 / 8-bit bytes                                    \n",
       "NAXIS   =                    2 / 2-dimensional binary table                     \n",
       "NAXIS1  =                  278 / width of table in bytes                        \n",
       "NAXIS2  =                19775 / number of rows in table                        \n",
       "PCOUNT  =                    0 / size of special data area                      \n",
       "GCOUNT  =                    1 / one data group (required keyword)              \n",
       "TFIELDS =                    5 / number of fields in each row                   \n",
       "TTYPE1  = 'COUNTS  '           / label for field   1                            \n",
       "TFORM1  = '128I    '           / data format of field: 2-byte INTEGER           \n",
       "TZERO1  =                32768 / offset for unsigned integers                   \n",
       "TSCAL1  =                    1 / data are not scaled                            \n",
       "TUNIT1  = 'count   '           / physical unit of field                         \n",
       "TTYPE2  = 'EXPOSURE'           / label for field   2                            \n",
       "TFORM2  = '1E      '           / data format of field: 4-byte REAL              \n",
       "TUNIT2  = 's       '           / physical unit of field                         \n",
       "TLMIN2  =                  0.0 / Exposure is non-negative                       \n",
       "TLMAX2  =             200000.0 / Exposure no longer than 2 days                 \n",
       "TTYPE3  = 'QUALITY '           / label for field   3                            \n",
       "TFORM3  = '1I      '           / data format of field: 2-byte INTEGER           \n",
       "TTYPE4  = 'TIME    '           / label for field   4                            \n",
       "TFORM4  = '1D      '           / data format of field: 8-byte DOUBLE            \n",
       "TUNIT4  = 's       '           / physical unit of field                         \n",
       "TLMIN4  =                  0.0 / MJDREF will be before launch                   \n",
       "TLMAX4  =         1500000000.0 / 47 years after MJDREF                          \n",
       "TZERO4  =     329097602.000000 / Offset, equal to TSTART                        \n",
       "TTYPE5  = 'ENDTIME '           / label for field   5                            \n",
       "TFORM5  = '1D      '           / data format of field: 8-byte DOUBLE            \n",
       "TUNIT5  = 's       '           / physical unit of field                         \n",
       "TLMIN5  =                  0.0 / MJDREF will be before launch                   \n",
       "TLMAX5  =         1500000000.0 / 47 years after MJDREF                          \n",
       "TZERO5  =     329097602.000000 / Offset, equal to TSTART                        \n",
       "EXTNAME = 'SPECTRUM'           / name of this binary table extension            \n",
       "TELESCOP= 'GLAST   '           / Name of mission/satellite                      \n",
       "INSTRUME= 'GBM     '           / Specific instrument used for observation       \n",
       "DETNAM  = 'NAI_05  '           / Individual detector name                       \n",
       "OBSERVER= 'Meegan  '           / GLAST Burst Monitor P.I.                       \n",
       "ORIGIN  = 'GIOC    '           / Name of organization making file               \n",
       "DATE    = '2011-06-07T02:48:45' / file creation date (YYYY-MM-DDThh:mm:ss UT)   \n",
       "DATE-OBS= '2011-06-06T23:59:55' / Date of start of observation                  \n",
       "DATE-END= '2011-06-08T00:00:05' / Date of end of observation                    \n",
       "TIMESYS = 'TT      '           / Time system used in time keywords              \n",
       "TIMEUNIT= 's       '           / Time since MJDREF, used in TSTART and TSTOP    \n",
       "MJDREFI =                51910 / MJD of GLAST reference epoch, integer part     \n",
       "MJDREFF = 7.428703703703703D-4 / MJD of GLAST reference epoch, fractional part  \n",
       "TSTART  =     329097595.403286 / [GLAST MET] Observation start time             \n",
       "TSTOP   =     329184005.307830 / [GLAST MET] Observation stop time              \n",
       "FILTER  = 'none    '           / The instrument filter in use (if any)          \n",
       "AREASCAL=                   1. / No special scaling of effective area by channel\n",
       "BACKFILE= 'none    '           / Name of corresponding background file (if any) \n",
       "BACKSCAL=                   1. / No scaling of background                       \n",
       "CORRFILE= 'none    '           / Name of corresponding correction file (if any) \n",
       "CORRSCAL=                   1. / Correction scaling file                        \n",
       "RESPFILE= 'none    '           / Name of corresponding RMF file (if any)        \n",
       "ANCRFILE= 'none    '           / Name of corresponding ARF file (if any)        \n",
       "SYS_ERR =                   0. / No systematic errors                           \n",
       "POISSERR=                    T / Assume Poisson Errors                          \n",
       "GROUPING=                    0 / No special grouping has been applied           \n",
       "HDUCLASS= 'OGIP    '           / Format conforms to OGIP standard               \n",
       "HDUCLAS1= 'SPECTRUM'           / PHA dataset (OGIP memo OGIP-92-007)            \n",
       "HDUCLAS2= 'TOTAL   '           / Indicates gross data (source + background)     \n",
       "HDUCLAS3= 'COUNT   '           / Indicates data stored as counts                \n",
       "HDUCLAS4= 'TYPEII  '           / Indicates PHA Type II file format              \n",
       "HDUVERS = '1.2.1   '           / Version of HDUCLAS1 format in use              \n",
       "CHANTYPE= 'PHA     '           / No corrections have been applied               \n",
       "DETCHANS=                  128 / Total number of channels in each rate          \n",
       "EXTVER  =                    1 / Version of this extension format               \n",
       "CHECKSUM= 'ad7cab4cab4cab4c'   / HDU checksum updated 2011-06-08T04:33:29       \n",
       "DATASUM = '2492406410'         / data unit checksum updated 2011-06-08T04:33:29 "
      ]
     },
     "execution_count": 11,
     "metadata": {},
     "output_type": "execute_result"
    }
   ],
   "source": [
    "hdulist[2].header"
   ]
  },
  {
   "cell_type": "code",
   "execution_count": 12,
   "metadata": {
    "collapsed": false
   },
   "outputs": [
    {
     "data": {
      "text/plain": [
       "XTENSION= 'BINTABLE'           / binary table extension                         \n",
       "BITPIX  =                    8 / 8-bit bytes                                    \n",
       "NAXIS   =                    2 / 2-dimensional binary table                     \n",
       "NAXIS1  =                   16 / width of table in bytes                        \n",
       "NAXIS2  =                   10 / number of rows in table                        \n",
       "PCOUNT  =                    0 / size of special data area                      \n",
       "GCOUNT  =                    1 / one data group (required keyword)              \n",
       "TFIELDS =                    2 / number of fields in each row                   \n",
       "TTYPE1  = 'START   '           / label for field   1                            \n",
       "TFORM1  = '1D      '           / data format of field: 8-byte DOUBLE            \n",
       "TUNIT1  = 's       '           / physical unit of field                         \n",
       "TZERO1  =     329097602.000000 / Offset (s), equal to TRIGTIME                  \n",
       "TTYPE2  = 'STOP    '           / label for field   2                            \n",
       "TFORM2  = '1D      '           / data format of field: 8-byte DOUBLE            \n",
       "TUNIT2  = 's       '           / physical unit of field                         \n",
       "TZERO2  =     329097602.000000 / Offset (s), equal to TRIGTIME                  \n",
       "EXTNAME = 'GTI     '           / name of this binary table extension            \n",
       "TELESCOP= 'GLAST   '           / Name of mission/satellite                      \n",
       "INSTRUME= 'GBM     '           / Specific instrument used for observation       \n",
       "DETNAM  = 'NAI_05  '           / Individual detector name                       \n",
       "OBSERVER= 'Meegan  '           / GLAST Burst Monitor P.I.                       \n",
       "ORIGIN  = 'GIOC    '           / Name of organization making file               \n",
       "DATE    = '2011-06-07T02:48:45' / file creation date (YYYY-MM-DDThh:mm:ss UT)   \n",
       "DATE-OBS= '2011-06-06T23:59:55' / Date of start of observation                  \n",
       "DATE-END= '2011-06-08T00:00:05' / Date of end of observation                    \n",
       "TIMESYS = 'TT      '           / Time system used in time keywords              \n",
       "TIMEUNIT= 's       '           / Time since MJDREF, used in TSTART and TSTOP    \n",
       "MJDREFI =                51910 / MJD of GLAST reference epoch, integer part     \n",
       "MJDREFF = 7.428703703703703D-4 / MJD of GLAST reference epoch, fractional part  \n",
       "TSTART  =     329097595.403286 / [GLAST MET] Observation start time             \n",
       "TSTOP   =     329184005.307830 / [GLAST MET] Observation stop time              \n",
       "HDUCLASS= 'OGIP    '           / Conforms to OGIP standard indicated in HDUCLAS1\n",
       "HDUCLAS1= 'GTI     '           / Indicates good time intervals                  \n",
       "HDUVERS = '1.2.0   '           / Version of HDUCLAS1 format in use              \n",
       "EXTVER  =                    1 / Version of this extension format               \n",
       "CHECKSUM= 'ZcS8iaS5ZaS5faS5'   / HDU checksum updated 2011-06-08T04:33:29       \n",
       "DATASUM = '4103018472'         / data unit checksum updated 2011-06-08T04:33:29 "
      ]
     },
     "execution_count": 12,
     "metadata": {},
     "output_type": "execute_result"
    }
   ],
   "source": [
    "hdulist[3].header"
   ]
  },
  {
   "cell_type": "markdown",
   "metadata": {},
   "source": [
    "So it looks like we are working with some energy counts data, temportal information, quality measurements, etc. "
   ]
  },
  {
   "cell_type": "markdown",
   "metadata": {},
   "source": [
    "# Plotting Spectral Data\n",
    "Let's take a look at some of the data we've got. "
   ]
  },
  {
   "cell_type": "code",
   "execution_count": 14,
   "metadata": {
    "collapsed": false
   },
   "outputs": [
    {
     "data": {
      "text/plain": [
       "19775"
      ]
     },
     "execution_count": 14,
     "metadata": {},
     "output_type": "execute_result"
    }
   ],
   "source": [
    "len(hdulist[2].data)"
   ]
  },
  {
   "cell_type": "code",
   "execution_count": 15,
   "metadata": {
    "collapsed": false
   },
   "outputs": [
    {
     "data": {
      "text/plain": [
       "['COUNTS', 'EXPOSURE', 'QUALITY', 'TIME', 'ENDTIME']"
      ]
     },
     "execution_count": 15,
     "metadata": {},
     "output_type": "execute_result"
    }
   ],
   "source": [
    "hdulist[2].data.names"
   ]
  },
  {
   "cell_type": "code",
   "execution_count": 17,
   "metadata": {
    "collapsed": false
   },
   "outputs": [
    {
     "data": {
      "text/plain": [
       "array([[  9,  34,  30, ...,   8, 274, 104],\n",
       "       [  7,  20,  29, ...,  15, 278,  99],\n",
       "       [  8,  23,  34, ...,  14, 236, 139],\n",
       "       ..., \n",
       "       [ 15,  29,  40, ...,  14, 223, 112],\n",
       "       [  6,  33,  36, ...,   7, 266, 112],\n",
       "       [  7,  30,  36, ...,   8, 236, 101]], dtype=uint16)"
      ]
     },
     "execution_count": 17,
     "metadata": {},
     "output_type": "execute_result"
    }
   ],
   "source": [
    "hdulist[2].data[\"COUNTS\"]"
   ]
  },
  {
   "cell_type": "code",
   "execution_count": 20,
   "metadata": {
    "collapsed": false
   },
   "outputs": [
    {
     "data": {
      "text/plain": [
       "(19775, 128)"
      ]
     },
     "execution_count": 20,
     "metadata": {},
     "output_type": "execute_result"
    }
   ],
   "source": [
    "hdulist[2].data[\"COUNTS\"].shape"
   ]
  },
  {
   "cell_type": "markdown",
   "metadata": {},
   "source": [
    "There is a large array of counts at 128 different energies. Let's take a look at the lowest energy measurements: "
   ]
  },
  {
   "cell_type": "code",
   "execution_count": 21,
   "metadata": {
    "collapsed": false
   },
   "outputs": [
    {
     "data": {
      "text/plain": [
       "[<matplotlib.lines.Line2D at 0x1145b3450>]"
      ]
     },
     "execution_count": 21,
     "metadata": {},
     "output_type": "execute_result"
    },
    {
     "data": {
      "image/png": "[encoded data removed]",
      "text/plain": [
       "<matplotlib.figure.Figure at 0x11403b150>"
      ]
     },
     "metadata": {},
     "output_type": "display_data"
    }
   ],
   "source": [
    "plt.plot(hdulist[2].data[\"counts\"][:,0])\n"
   ]
  },
  {
   "cell_type": "markdown",
   "metadata": {},
   "source": [
    "So now we have a plot of counts over some perieod of time. We can see there is one major spike in the data. Let's filter the data so that we just have the major peak without the spike. "
   ]
  },
  {
   "cell_type": "code",
   "execution_count": 41,
   "metadata": {
    "collapsed": true
   },
   "outputs": [],
   "source": [
    "w = np.logical_and(hdulist[2].data[\"counts\"][:,0] > 300, hdulist[2].data[\"counts\"][:,0] < 2000)"
   ]
  },
  {
   "cell_type": "code",
   "execution_count": 42,
   "metadata": {
    "collapsed": false
   },
   "outputs": [
    {
     "data": {
      "text/plain": [
       "array([False, False, False, ..., False, False, False], dtype=bool)"
      ]
     },
     "execution_count": 42,
     "metadata": {},
     "output_type": "execute_result"
    }
   ],
   "source": [
    "w"
   ]
  },
  {
   "cell_type": "markdown",
   "metadata": {},
   "source": [
    "This function, \"np.logical_and\", is similar to a \"where\" statement in IDL. We can see that \"w\" is now an array of true and false values. To take a subsection of our data where our filter is true:"
   ]
  },
  {
   "cell_type": "code",
   "execution_count": 43,
   "metadata": {
    "collapsed": true
   },
   "outputs": [],
   "source": [
    "counts = hdulist[2].data[\"counts\"][:,0][w]"
   ]
  },
  {
   "cell_type": "code",
   "execution_count": 44,
   "metadata": {
    "collapsed": false
   },
   "outputs": [
    {
     "data": {
      "text/plain": [
       "[<matplotlib.lines.Line2D at 0x124ad3e10>]"
      ]
     },
     "execution_count": 44,
     "metadata": {},
     "output_type": "execute_result"
    },
    {
     "data": {
      "image/png": "[encoded data removed]",
      "text/plain": [
       "<matplotlib.figure.Figure at 0x11f748450>"
      ]
     },
     "metadata": {},
     "output_type": "display_data"
    }
   ],
   "source": [
    "plt.plot(counts)"
   ]
  },
  {
   "cell_type": "code",
   "execution_count": 56,
   "metadata": {
    "collapsed": false
   },
   "outputs": [
    {
     "data": {
      "text/plain": [
       "1410"
      ]
     },
     "execution_count": 56,
     "metadata": {},
     "output_type": "execute_result"
    }
   ],
   "source": [
    "counts\n",
    "len(counts)"
   ]
  },
  {
   "cell_type": "markdown",
   "metadata": {},
   "source": [
    "Now, it is good to add some units to data when you can. The header of the file tells us what the units are, but in this case, counts have no units. "
   ]
  },
  {
   "cell_type": "markdown",
   "metadata": {},
   "source": [
    "# Fitting the data with a Gaussian\n",
    "\n",
    "Now that we have extracted a detection feature from the whole data. Now let's say we want to fit it with a gaussian. Do do this we will make use of a couple of packages in in astropy. We will initialize the gaussian fit with some approximations (max, center, FWHM): "
   ]
  },
  {
   "cell_type": "code",
   "execution_count": 46,
   "metadata": {
    "collapsed": true
   },
   "outputs": [],
   "source": [
    "g_init = models.Gaussian1D(1500, 300, 100)"
   ]
  },
  {
   "cell_type": "markdown",
   "metadata": {},
   "source": [
    "Now let's define a fitting method and produce a fit:"
   ]
  },
  {
   "cell_type": "code",
   "execution_count": 47,
   "metadata": {
    "collapsed": true
   },
   "outputs": [],
   "source": [
    "fit_g = fitting.LevMarLSQFitter()"
   ]
  },
  {
   "cell_type": "markdown",
   "metadata": {},
   "source": [
    "Since this fitting routine expects both X and Y coordinate data, we need to define an X vector:"
   ]
  },
  {
   "cell_type": "code",
   "execution_count": 49,
   "metadata": {
    "collapsed": true
   },
   "outputs": [],
   "source": [
    "t=np.arange(0,len(counts))"
   ]
  },
  {
   "cell_type": "code",
   "execution_count": 50,
   "metadata": {
    "collapsed": false
   },
   "outputs": [],
   "source": [
    "g = fit_g(g_init, t, counts)"
   ]
  },
  {
   "cell_type": "markdown",
   "metadata": {},
   "source": [
    "Let's take a look at some of the qualities of our fitted gaussian:"
   ]
  },
  {
   "cell_type": "code",
   "execution_count": 51,
   "metadata": {
    "collapsed": false
   },
   "outputs": [
    {
     "data": {
      "text/plain": [
       "Parameter('mean', value=619.649236793)"
      ]
     },
     "execution_count": 51,
     "metadata": {},
     "output_type": "execute_result"
    }
   ],
   "source": [
    "g.mean"
   ]
  },
  {
   "cell_type": "code",
   "execution_count": 52,
   "metadata": {
    "collapsed": false
   },
   "outputs": [
    {
     "data": {
      "text/plain": [
       "Parameter('stddev', value=480.68572063)"
      ]
     },
     "execution_count": 52,
     "metadata": {},
     "output_type": "execute_result"
    }
   ],
   "source": [
    "g.stddev"
   ]
  },
  {
   "cell_type": "code",
   "execution_count": 53,
   "metadata": {
    "collapsed": false
   },
   "outputs": [
    {
     "data": {
      "text/plain": [
       "Parameter('amplitude', value=1345.26430845)"
      ]
     },
     "execution_count": 53,
     "metadata": {},
     "output_type": "execute_result"
    }
   ],
   "source": [
    "g.amplitude"
   ]
  },
  {
   "cell_type": "code",
   "execution_count": 54,
   "metadata": {
    "collapsed": false
   },
   "outputs": [
    {
     "data": {
      "text/plain": [
       "<Gaussian1D(amplitude=1345.2643084478582, mean=619.6492367933208, stddev=480.68572062988443)>"
      ]
     },
     "execution_count": 54,
     "metadata": {},
     "output_type": "execute_result"
    }
   ],
   "source": [
    "g"
   ]
  },
  {
   "cell_type": "markdown",
   "metadata": {},
   "source": [
    "Our guesses wern't too bad, but we over estimated the Standard Deviation by about a factor of 5. The variable 'g' has the fitted parameters of our gaussian but it doesn't actually contain an array. To plot it over the data, we need to create an array of values. We will make an array from 0 to 1410 with 2820 points in it. "
   ]
  },
  {
   "cell_type": "code",
   "execution_count": 57,
   "metadata": {
    "collapsed": true
   },
   "outputs": [],
   "source": [
    "x = np.linspace(0, 1410, 2820)"
   ]
  },
  {
   "cell_type": "markdown",
   "metadata": {},
   "source": [
    "To find the values of our fit at each location, it is easy:"
   ]
  },
  {
   "cell_type": "code",
   "execution_count": 58,
   "metadata": {
    "collapsed": true
   },
   "outputs": [],
   "source": [
    "y = g(x)"
   ]
  },
  {
   "cell_type": "markdown",
   "metadata": {},
   "source": [
    "Now we can plot it:"
   ]
  },
  {
   "cell_type": "code",
   "execution_count": 60,
   "metadata": {
    "collapsed": false
   },
   "outputs": [
    {
     "data": {
      "text/plain": [
       "[<matplotlib.lines.Line2D at 0x1255ea710>]"
      ]
     },
     "execution_count": 60,
     "metadata": {},
     "output_type": "execute_result"
    },
    {
     "data": {
      "image/png": "[encoded data removed]",
      "text/plain": [
       "<matplotlib.figure.Figure at 0x1255f3890>"
      ]
     },
     "metadata": {},
     "output_type": "display_data"
    }
   ],
   "source": [
    "plt.plot(counts)\n",
    "plt.plot(x, y, linewidth=2)"
   ]
  },
  {
   "cell_type": "markdown",
   "metadata": {},
   "source": [
    "That isn't a very good fit. If we chose a more clever way to filter our data, or possibly fit two gaussians that could improve things. "
   ]
  },
  {
   "cell_type": "markdown",
   "metadata": {},
   "source": [
    "# Ingegrating under the curve. \n",
    "\n",
    "Let's find the area under the curve we just created. We can numerically integrate it easily:"
   ]
  },
  {
   "cell_type": "code",
   "execution_count": 61,
   "metadata": {
    "collapsed": true
   },
   "outputs": [],
   "source": [
    "intensity = trapz(y,x)"
   ]
  },
  {
   "cell_type": "code",
   "execution_count": 62,
   "metadata": {
    "collapsed": false
   },
   "outputs": [
    {
     "data": {
      "text/plain": [
       "1379801.5650536548"
      ]
     },
     "execution_count": 62,
     "metadata": {},
     "output_type": "execute_result"
    }
   ],
   "source": [
    "intensity"
   ]
  },
  {
   "cell_type": "code",
   "execution_count": null,
   "metadata": {
    "collapsed": true
   },
   "outputs": [],
   "source": []
  }
 ],
 "metadata": {
  "kernelspec": {
   "display_name": "Python 2",
   "language": "python",
   "name": "python2"
  },
  "language_info": {
   "codemirror_mode": {
    "name": "ipython",
    "version": 2
   },
   "file_extension": ".py",
   "mimetype": "text/x-python",
   "name": "python",
   "nbconvert_exporter": "python",
   "pygments_lexer": "ipython2",
   "version": "2.7.11"
  }
 },
 "nbformat": 4,
 "nbformat_minor": 0
}
