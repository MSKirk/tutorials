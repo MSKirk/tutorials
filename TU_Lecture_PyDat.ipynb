{
 "cells": [
  {
   "cell_type": "code",
   "execution_count": null,
   "metadata": {},
   "outputs": [],
   "source": [
    "%matplotlib notebook"
   ]
  },
  {
   "cell_type": "markdown",
   "metadata": {},
   "source": [
    "# Solar Data Processing with Python\n",
    "\n",
    "Now we have a grasp of the basics of python and know what kind of solar data exist using SunPy, but the whole reason for downloading python in the first place was to analyze solar data. Let's take a closer look at examples of solar data analysis. "
   ]
  },
  {
   "cell_type": "markdown",
   "metadata": {
    "collapsed": true
   },
   "source": [
    "## Fitting A Gaussian to Data.\n",
    "\n",
    "\n",
    "One of the most common data types in solar data processing is a time series. A time series is a measurement of how one physical parameter changes as a function of time. This example shows how to fit a gaussian to a spectral line. In this example, it will be as \"real world\" as possible.\n",
    "\n",
    "First, let's import some useful libraries. "
   ]
  },
  {
   "cell_type": "code",
   "execution_count": 2,
   "metadata": {},
   "outputs": [],
   "source": [
    "from datetime import datetime, timedelta #we saw these in the last tutorial\n",
    "\n",
    "import numpy as np \n",
    "from astropy.io import fits #how to read .fits files\n",
    "from astropy.modeling import models, fitting #some handy fitting tools from astropy\n",
    "import matplotlib.pyplot as plt \n",
    "from scipy.integrate import trapz #numerical itegration tool\n",
    "import astropy.units as u #units!!\n",
    "import sunpy #solar data analysis tools\n",
    "import sunpy.data.sample #Data interaction tools \n"
   ]
  },
  {
   "cell_type": "code",
   "execution_count": 5,
   "metadata": {},
   "outputs": [
    {
     "name": "stderr",
     "output_type": "stream",
     "text": [
      "/Users/mskirk/anaconda3/lib/python3.6/site-packages/sunpy/data/_sample.py:160: UserWarning: File AIA20110607_063301_0131_lowres.fits not found.\n",
      "  warnings.warn(\"File {} not found.\".format(filename))\n",
      "/Users/mskirk/anaconda3/lib/python3.6/site-packages/sunpy/data/_sample.py:160: UserWarning: File AIA20110607_063302_0171_lowres.fits not found.\n",
      "  warnings.warn(\"File {} not found.\".format(filename))\n",
      "/Users/mskirk/anaconda3/lib/python3.6/site-packages/sunpy/data/_sample.py:160: UserWarning: File AIA20110607_063302_0211_lowres.fits not found.\n",
      "  warnings.warn(\"File {} not found.\".format(filename))\n",
      "/Users/mskirk/anaconda3/lib/python3.6/site-packages/sunpy/data/_sample.py:160: UserWarning: File AIA20110607_063303_0335_lowres.fits not found.\n",
      "  warnings.warn(\"File {} not found.\".format(filename))\n",
      "/Users/mskirk/anaconda3/lib/python3.6/site-packages/sunpy/data/_sample.py:160: UserWarning: File AIA20110607_063305_0094_lowres.fits not found.\n",
      "  warnings.warn(\"File {} not found.\".format(filename))\n",
      "/Users/mskirk/anaconda3/lib/python3.6/site-packages/sunpy/data/_sample.py:160: UserWarning: File AIA20110607_063305_1600_lowres.fits not found.\n",
      "  warnings.warn(\"File {} not found.\".format(filename))\n",
      "/Users/mskirk/anaconda3/lib/python3.6/site-packages/sunpy/data/_sample.py:160: UserWarning: File AIA20110607_063307_0193_lowres.fits not found.\n",
      "  warnings.warn(\"File {} not found.\".format(filename))\n",
      "/Users/mskirk/anaconda3/lib/python3.6/site-packages/sunpy/data/_sample.py:160: UserWarning: File AIA20110607_063307_0193_cutout.fits not found.\n",
      "  warnings.warn(\"File {} not found.\".format(filename))\n",
      "/Users/mskirk/anaconda3/lib/python3.6/site-packages/sunpy/data/_sample.py:160: UserWarning: File AIA20110607_063931_0193_cutout.fits not found.\n",
      "  warnings.warn(\"File {} not found.\".format(filename))\n",
      "/Users/mskirk/anaconda3/lib/python3.6/site-packages/sunpy/data/_sample.py:160: UserWarning: File AIA20110607_064555_0193_cutout.fits not found.\n",
      "  warnings.warn(\"File {} not found.\".format(filename))\n",
      "/Users/mskirk/anaconda3/lib/python3.6/site-packages/sunpy/data/_sample.py:160: UserWarning: File AIA20110607_065219_0193_cutout.fits not found.\n",
      "  warnings.warn(\"File {} not found.\".format(filename))\n",
      "/Users/mskirk/anaconda3/lib/python3.6/site-packages/sunpy/data/_sample.py:160: UserWarning: File AIA20110607_065843_0193_cutout.fits not found.\n",
      "  warnings.warn(\"File {} not found.\".format(filename))\n",
      "/Users/mskirk/anaconda3/lib/python3.6/site-packages/sunpy/data/_sample.py:160: UserWarning: File eit_l1_20110607_203753.fits not found.\n",
      "  warnings.warn(\"File {} not found.\".format(filename))\n",
      "/Users/mskirk/anaconda3/lib/python3.6/site-packages/sunpy/data/_sample.py:160: UserWarning: File hsi_image_20110607_063300.fits not found.\n",
      "  warnings.warn(\"File {} not found.\".format(filename))\n",
      "/Users/mskirk/anaconda3/lib/python3.6/site-packages/sunpy/data/_sample.py:160: UserWarning: File BIR_20110607_062400_10.fit not found.\n",
      "  warnings.warn(\"File {} not found.\".format(filename))\n",
      "/Users/mskirk/anaconda3/lib/python3.6/site-packages/sunpy/data/_sample.py:160: UserWarning: File swap_lv1_20110607_063329.fits not found.\n",
      "  warnings.warn(\"File {} not found.\".format(filename))\n",
      "/Users/mskirk/anaconda3/lib/python3.6/site-packages/sunpy/data/_sample.py:160: UserWarning: File aiacalibim5.fits.gz not found.\n",
      "  warnings.warn(\"File {} not found.\".format(filename))\n",
      "/Users/mskirk/anaconda3/lib/python3.6/site-packages/sunpy/data/_sample.py:160: UserWarning: File 20110607_EVE_L0CS_DIODES_1m.txt not found.\n",
      "  warnings.warn(\"File {} not found.\".format(filename))\n",
      "/Users/mskirk/anaconda3/lib/python3.6/site-packages/sunpy/data/_sample.py:160: UserWarning: File lyra_20110607-000000_lev3_std.fits not found.\n",
      "  warnings.warn(\"File {} not found.\".format(filename))\n",
      "/Users/mskirk/anaconda3/lib/python3.6/site-packages/sunpy/data/_sample.py:160: UserWarning: File go1520110607.fits not found.\n",
      "  warnings.warn(\"File {} not found.\".format(filename))\n",
      "/Users/mskirk/anaconda3/lib/python3.6/site-packages/sunpy/data/_sample.py:160: UserWarning: File glg_cspec_n5_110607_v00.pha not found.\n",
      "  warnings.warn(\"File {} not found.\".format(filename))\n",
      "/Users/mskirk/anaconda3/lib/python3.6/site-packages/sunpy/data/_sample.py:160: UserWarning: File swpc_solar_cycle_indices.txt not found.\n",
      "  warnings.warn(\"File {} not found.\".format(filename))\n",
      "/Users/mskirk/anaconda3/lib/python3.6/site-packages/sunpy/data/_sample.py:160: UserWarning: File predicted-sunspot-radio-flux.txt not found.\n",
      "  warnings.warn(\"File {} not found.\".format(filename))\n",
      "/Users/mskirk/anaconda3/lib/python3.6/site-packages/sunpy/data/_sample.py:160: UserWarning: File hsi_obssumm_20110607_025.fits not found.\n",
      "  warnings.warn(\"File {} not found.\".format(filename))\n",
      "/Users/mskirk/anaconda3/lib/python3.6/site-packages/sunpy/data/_sample.py:160: UserWarning: File tca110607.fits not found.\n",
      "  warnings.warn(\"File {} not found.\".format(filename))\n"
     ]
    }
   ],
   "source": [
    "sunpy.data.download_sample_data()\n",
    "\n",
    "#Download some sample data\n"
   ]
  },
  {
   "cell_type": "markdown",
   "metadata": {
    "collapsed": true
   },
   "source": [
    "Next we need to load in the data set we want to work with:"
   ]
  },
  {
   "cell_type": "code",
   "execution_count": 6,
   "metadata": {},
   "outputs": [],
   "source": [
    "filename = sunpy.data.sample.GBM_TIMESERIES\n"
   ]
  },
  {
   "cell_type": "code",
   "execution_count": 9,
   "metadata": {},
   "outputs": [],
   "source": [
    "hdulist = fits.open(filename)"
   ]
  },
  {
   "cell_type": "markdown",
   "metadata": {},
   "source": [
    "So what did we get when we opened the file? Let's take a look:"
   ]
  },
  {
   "cell_type": "code",
   "execution_count": 10,
   "metadata": {},
   "outputs": [
    {
     "data": {
      "text/plain": [
       "4"
      ]
     },
     "execution_count": 10,
     "metadata": {},
     "output_type": "execute_result"
    }
   ],
   "source": [
    "len(hdulist)"
   ]
  },
  {
   "cell_type": "markdown",
   "metadata": {},
   "source": [
    "We got 4 items in the list. Lets take a look at the first one: "
   ]
  },
  {
   "cell_type": "code",
   "execution_count": 11,
   "metadata": {
    "scrolled": false
   },
   "outputs": [
    {
     "data": {
      "text/plain": [
       "SIMPLE  =                    T / file does conform to FITS standard             \n",
       "BITPIX  =                    8 / number of bits per data pixel                  \n",
       "NAXIS   =                    0 / number of data axes                            \n",
       "EXTEND  =                    T / FITS dataset may contain extensions            \n",
       "COMMENT   FITS (Flexible Image Transport System) format is defined in 'Astronomy\n",
       "COMMENT   and Astrophysics', volume 376, page 359; bibcode: 2001A&A...376..359H \n",
       "CREATOR = 'GBM_SCI_Reader.pl v1.19' / Software and version creating file        \n",
       "FILETYPE= 'PHAII   '           / Name for this type of FITS file                \n",
       "FILE-VER= '1.0.0   '           / Version of the format for this filetype        \n",
       "TELESCOP= 'GLAST   '           / Name of mission/satellite                      \n",
       "INSTRUME= 'GBM     '           / Specific instrument used for observation       \n",
       "DETNAM  = 'NAI_05  '           / Individual detector name                       \n",
       "OBSERVER= 'Meegan  '           / GLAST Burst Monitor P.I.                       \n",
       "ORIGIN  = 'GIOC    '           / Name of organization making file               \n",
       "DATE    = '2011-06-07T02:48:45' / file creation date (YYYY-MM-DDThh:mm:ss UT)   \n",
       "DATE-OBS= '2011-06-06T23:59:55' / Date of start of observation                  \n",
       "DATE-END= '2011-06-08T00:00:05' / Date of end of observation                    \n",
       "TIMESYS = 'TT      '           / Time system used in time keywords              \n",
       "TIMEUNIT= 's       '           / Time since MJDREF, used in TSTART and TSTOP    \n",
       "MJDREFI =                51910 / MJD of GLAST reference epoch, integer part     \n",
       "MJDREFF = 7.428703703703703D-4 / MJD of GLAST reference epoch, fractional part  \n",
       "TSTART  =     329097595.403286 / [GLAST MET] Observation start time             \n",
       "TSTOP   =     329184005.307830 / [GLAST MET] Observation stop time              \n",
       "FILENAME= 'glg_cspec_n5_110607_v00.pha' / Name of this file                     \n",
       "DATATYPE= 'CSPEC   '           / GBM datatype used for this file                \n",
       "INFILE01= 'glg_lutcs_nai_100716346_v00.fit' / Level 1 input lookup table file   \n",
       "INFILE02= 'GLAST_2011158_015300_VC09_GSPEC.0.00' / Level 0 input data file      \n",
       "INFILE03= 'GLAST_2011158_034700_VC09_GSPEC.0.00' / Level 0 input data file      \n",
       "INFILE04= 'GLAST_2011158_062700_VC09_GSPEC.0.00' / Level 0 input data file      \n",
       "INFILE05= 'GLAST_2011158_080800_VC09_GSPEC.0.00' / Level 0 input data file      \n",
       "INFILE06= 'GLAST_2011158_113300_VC09_GSPEC.0.00' / Level 0 input data file      \n",
       "INFILE07= 'GLAST_2011158_135000_VC09_GSPEC.0.00' / Level 0 input data file      \n",
       "INFILE08= 'GLAST_2011158_154400_VC09_GSPEC.0.00' / Level 0 input data file      \n",
       "INFILE09= 'GLAST_2011158_173100_VC09_GSPEC.0.00' / Level 0 input data file      \n",
       "INFILE10= 'GLAST_2011158_190000_VC09_GSPEC.0.00' / Level 0 input data file      \n",
       "INFILE11= 'GLAST_2011158_204200_VC09_GSPEC.0.00' / Level 0 input data file      \n",
       "INFILE12= 'GLAST_2011158_222600_VC09_GSPEC.0.00' / Level 0 input data file      \n",
       "INFILE13= 'GLAST_2011159_013000_VC09_GSPEC.0.00' / Level 0 input data file      \n",
       "INFILE14= 'GLAST_2011159_040200_VC09_GSPEC.0.00' / Level 0 input data file      \n",
       "CHECKSUM= 'TYTDWVRBTVRBTVRB'   / HDU checksum updated 2011-06-08T04:33:29       \n",
       "DATASUM = '         0'         / data unit checksum updated 2011-06-07T02:48:45 "
      ]
     },
     "execution_count": 11,
     "metadata": {},
     "output_type": "execute_result"
    }
   ],
   "source": [
    "hdulist[0].header"
   ]
  },
  {
   "cell_type": "markdown",
   "metadata": {},
   "source": [
    "It looks like this data is from the GLAST telescope measuring gamma rays. Let's take a look at the second item:"
   ]
  },
  {
   "cell_type": "code",
   "execution_count": 12,
   "metadata": {},
   "outputs": [
    {
     "data": {
      "text/plain": [
       "XTENSION= 'BINTABLE'           / binary table extension                         \n",
       "BITPIX  =                    8 / 8-bit bytes                                    \n",
       "NAXIS   =                    2 / 2-dimensional binary table                     \n",
       "NAXIS1  =                   10 / width of table in bytes                        \n",
       "NAXIS2  =                  128 / number of rows in table                        \n",
       "PCOUNT  =                    0 / size of special data area                      \n",
       "GCOUNT  =                    1 / one data group (required keyword)              \n",
       "TFIELDS =                    3 / number of fields in each row                   \n",
       "TTYPE1  = 'CHANNEL '           / label for field   1                            \n",
       "TFORM1  = '1I      '           / data format of field: 2-byte INTEGER           \n",
       "TUNIT1  = 'none    '           / physical unit of field                         \n",
       "TLMIN1  =                    0 / Channel numbers are non-negative               \n",
       "TLMAX1  =                  127 / Greater than the number of channels            \n",
       "TTYPE2  = 'E_MIN   '           / label for field   2                            \n",
       "TFORM2  = '1E      '           / data format of field: 4-byte REAL              \n",
       "TUNIT2  = 'keV     '           / physical unit of field                         \n",
       "TLMIN2  =                    0 / Lowest channel energy                          \n",
       "TLMAX2  =                 2000 / Highest channel energy                         \n",
       "TTYPE3  = 'E_MAX   '           / label for field   3                            \n",
       "TFORM3  = '1E      '           / data format of field: 4-byte REAL              \n",
       "TUNIT3  = 'keV     '           / physical unit of field                         \n",
       "TLMIN3  =                    0 / Lowest channel energy                          \n",
       "TLMAX3  =                 2000 / Highest channel energy                         \n",
       "EXTNAME = 'EBOUNDS '           / name of this binary table extension            \n",
       "TELESCOP= 'GLAST   '           / Name of mission/satellite                      \n",
       "INSTRUME= 'GBM     '           / Specific instrument used for observation       \n",
       "DETNAM  = 'NAI_05  '           / Individual detector name                       \n",
       "OBSERVER= 'Meegan  '           / GLAST Burst Monitor P.I.                       \n",
       "ORIGIN  = 'GIOC    '           / Name of organization making file               \n",
       "DATE    = '2011-06-07T02:48:45' / file creation date (YYYY-MM-DDThh:mm:ss UT)   \n",
       "DATE-OBS= '2011-06-06T23:59:55' / Date of start of observation                  \n",
       "DATE-END= '2011-06-08T00:00:05' / Date of end of observation                    \n",
       "TIMESYS = 'TT      '           / Time system used in time keywords              \n",
       "TIMEUNIT= 's       '           / Time since MJDREF, used in TSTART and TSTOP    \n",
       "MJDREFI =                51910 / MJD of GLAST reference epoch, integer part     \n",
       "MJDREFF = 7.428703703703703D-4 / MJD of GLAST reference epoch, fractional part  \n",
       "TSTART  =     329097595.403286 / [GLAST MET] Observation start time             \n",
       "TSTOP   =     329184005.307830 / [GLAST MET] Observation stop time              \n",
       "HDUCLASS= 'OGIP    '           / Conforms to OGIP standard indicated in HDUCLAS1\n",
       "HDUCLAS1= 'RESPONSE'           / These are typically found in RMF files         \n",
       "HDUCLAS2= 'EBOUNDS '           / From CAL/GEN/92-002                            \n",
       "HDUVERS = '1.2.0   '           / Version of HDUCLAS1 format in use              \n",
       "CHANTYPE= 'PHA     '           / No corrections have been applied               \n",
       "FILTER  = 'None    '           / The instrument filter in use (if any)          \n",
       "DETCHANS=                  128 / Total number of channels in each rate          \n",
       "EXTVER  =                    1 / Version of this extension format               \n",
       "GBMCKSUM= 'ea20    '           / GBM FSW icrc shecksum value (hex)              \n",
       "CH2E_VER= 'SPLINE 2.0'         / Channel to energy conversion scheme used       \n",
       "GAIN_COR=                  1.0 / Gain correction factor applied to energy edges \n",
       "CHECKSUM= 'OGMYOFMVOFMVOFMV'   / HDU checksum updated 2011-06-08T04:33:29       \n",
       "DATASUM = '1439395070'         / data unit checksum updated 2011-06-07T02:48:45 "
      ]
     },
     "execution_count": 12,
     "metadata": {},
     "output_type": "execute_result"
    }
   ],
   "source": [
    "hdulist[1].header"
   ]
  },
  {
   "cell_type": "markdown",
   "metadata": {},
   "source": [
    "Alright, now we are getting somewhere. This has data in units of 'keV' and max/min measurements. Let's take a look at the other elements of the list we got:"
   ]
  },
  {
   "cell_type": "code",
   "execution_count": 13,
   "metadata": {},
   "outputs": [
    {
     "data": {
      "text/plain": [
       "XTENSION= 'BINTABLE'           / binary table extension                         \n",
       "BITPIX  =                    8 / 8-bit bytes                                    \n",
       "NAXIS   =                    2 / 2-dimensional binary table                     \n",
       "NAXIS1  =                  278 / width of table in bytes                        \n",
       "NAXIS2  =                19775 / number of rows in table                        \n",
       "PCOUNT  =                    0 / size of special data area                      \n",
       "GCOUNT  =                    1 / one data group (required keyword)              \n",
       "TFIELDS =                    5 / number of fields in each row                   \n",
       "TTYPE1  = 'COUNTS  '           / label for field   1                            \n",
       "TFORM1  = '128I    '           / data format of field: 2-byte INTEGER           \n",
       "TZERO1  =                32768 / offset for unsigned integers                   \n",
       "TSCAL1  =                    1 / data are not scaled                            \n",
       "TUNIT1  = 'count   '           / physical unit of field                         \n",
       "TTYPE2  = 'EXPOSURE'           / label for field   2                            \n",
       "TFORM2  = '1E      '           / data format of field: 4-byte REAL              \n",
       "TUNIT2  = 's       '           / physical unit of field                         \n",
       "TLMIN2  =                  0.0 / Exposure is non-negative                       \n",
       "TLMAX2  =             200000.0 / Exposure no longer than 2 days                 \n",
       "TTYPE3  = 'QUALITY '           / label for field   3                            \n",
       "TFORM3  = '1I      '           / data format of field: 2-byte INTEGER           \n",
       "TTYPE4  = 'TIME    '           / label for field   4                            \n",
       "TFORM4  = '1D      '           / data format of field: 8-byte DOUBLE            \n",
       "TUNIT4  = 's       '           / physical unit of field                         \n",
       "TLMIN4  =                  0.0 / MJDREF will be before launch                   \n",
       "TLMAX4  =         1500000000.0 / 47 years after MJDREF                          \n",
       "TZERO4  =     329097602.000000 / Offset, equal to TSTART                        \n",
       "TTYPE5  = 'ENDTIME '           / label for field   5                            \n",
       "TFORM5  = '1D      '           / data format of field: 8-byte DOUBLE            \n",
       "TUNIT5  = 's       '           / physical unit of field                         \n",
       "TLMIN5  =                  0.0 / MJDREF will be before launch                   \n",
       "TLMAX5  =         1500000000.0 / 47 years after MJDREF                          \n",
       "TZERO5  =     329097602.000000 / Offset, equal to TSTART                        \n",
       "EXTNAME = 'SPECTRUM'           / name of this binary table extension            \n",
       "TELESCOP= 'GLAST   '           / Name of mission/satellite                      \n",
       "INSTRUME= 'GBM     '           / Specific instrument used for observation       \n",
       "DETNAM  = 'NAI_05  '           / Individual detector name                       \n",
       "OBSERVER= 'Meegan  '           / GLAST Burst Monitor P.I.                       \n",
       "ORIGIN  = 'GIOC    '           / Name of organization making file               \n",
       "DATE    = '2011-06-07T02:48:45' / file creation date (YYYY-MM-DDThh:mm:ss UT)   \n",
       "DATE-OBS= '2011-06-06T23:59:55' / Date of start of observation                  \n",
       "DATE-END= '2011-06-08T00:00:05' / Date of end of observation                    \n",
       "TIMESYS = 'TT      '           / Time system used in time keywords              \n",
       "TIMEUNIT= 's       '           / Time since MJDREF, used in TSTART and TSTOP    \n",
       "MJDREFI =                51910 / MJD of GLAST reference epoch, integer part     \n",
       "MJDREFF = 7.428703703703703D-4 / MJD of GLAST reference epoch, fractional part  \n",
       "TSTART  =     329097595.403286 / [GLAST MET] Observation start time             \n",
       "TSTOP   =     329184005.307830 / [GLAST MET] Observation stop time              \n",
       "FILTER  = 'none    '           / The instrument filter in use (if any)          \n",
       "AREASCAL=                   1. / No special scaling of effective area by channel\n",
       "BACKFILE= 'none    '           / Name of corresponding background file (if any) \n",
       "BACKSCAL=                   1. / No scaling of background                       \n",
       "CORRFILE= 'none    '           / Name of corresponding correction file (if any) \n",
       "CORRSCAL=                   1. / Correction scaling file                        \n",
       "RESPFILE= 'none    '           / Name of corresponding RMF file (if any)        \n",
       "ANCRFILE= 'none    '           / Name of corresponding ARF file (if any)        \n",
       "SYS_ERR =                   0. / No systematic errors                           \n",
       "POISSERR=                    T / Assume Poisson Errors                          \n",
       "GROUPING=                    0 / No special grouping has been applied           \n",
       "HDUCLASS= 'OGIP    '           / Format conforms to OGIP standard               \n",
       "HDUCLAS1= 'SPECTRUM'           / PHA dataset (OGIP memo OGIP-92-007)            \n",
       "HDUCLAS2= 'TOTAL   '           / Indicates gross data (source + background)     \n",
       "HDUCLAS3= 'COUNT   '           / Indicates data stored as counts                \n",
       "HDUCLAS4= 'TYPEII  '           / Indicates PHA Type II file format              \n",
       "HDUVERS = '1.2.1   '           / Version of HDUCLAS1 format in use              \n",
       "CHANTYPE= 'PHA     '           / No corrections have been applied               \n",
       "DETCHANS=                  128 / Total number of channels in each rate          \n",
       "EXTVER  =                    1 / Version of this extension format               \n",
       "CHECKSUM= 'ad7cab4cab4cab4c'   / HDU checksum updated 2011-06-08T04:33:29       \n",
       "DATASUM = '2492406410'         / data unit checksum updated 2011-06-08T04:33:29 "
      ]
     },
     "execution_count": 13,
     "metadata": {},
     "output_type": "execute_result"
    }
   ],
   "source": [
    "hdulist[2].header"
   ]
  },
  {
   "cell_type": "code",
   "execution_count": 14,
   "metadata": {},
   "outputs": [
    {
     "data": {
      "text/plain": [
       "XTENSION= 'BINTABLE'           / binary table extension                         \n",
       "BITPIX  =                    8 / 8-bit bytes                                    \n",
       "NAXIS   =                    2 / 2-dimensional binary table                     \n",
       "NAXIS1  =                   16 / width of table in bytes                        \n",
       "NAXIS2  =                   10 / number of rows in table                        \n",
       "PCOUNT  =                    0 / size of special data area                      \n",
       "GCOUNT  =                    1 / one data group (required keyword)              \n",
       "TFIELDS =                    2 / number of fields in each row                   \n",
       "TTYPE1  = 'START   '           / label for field   1                            \n",
       "TFORM1  = '1D      '           / data format of field: 8-byte DOUBLE            \n",
       "TUNIT1  = 's       '           / physical unit of field                         \n",
       "TZERO1  =     329097602.000000 / Offset (s), equal to TRIGTIME                  \n",
       "TTYPE2  = 'STOP    '           / label for field   2                            \n",
       "TFORM2  = '1D      '           / data format of field: 8-byte DOUBLE            \n",
       "TUNIT2  = 's       '           / physical unit of field                         \n",
       "TZERO2  =     329097602.000000 / Offset (s), equal to TRIGTIME                  \n",
       "EXTNAME = 'GTI     '           / name of this binary table extension            \n",
       "TELESCOP= 'GLAST   '           / Name of mission/satellite                      \n",
       "INSTRUME= 'GBM     '           / Specific instrument used for observation       \n",
       "DETNAM  = 'NAI_05  '           / Individual detector name                       \n",
       "OBSERVER= 'Meegan  '           / GLAST Burst Monitor P.I.                       \n",
       "ORIGIN  = 'GIOC    '           / Name of organization making file               \n",
       "DATE    = '2011-06-07T02:48:45' / file creation date (YYYY-MM-DDThh:mm:ss UT)   \n",
       "DATE-OBS= '2011-06-06T23:59:55' / Date of start of observation                  \n",
       "DATE-END= '2011-06-08T00:00:05' / Date of end of observation                    \n",
       "TIMESYS = 'TT      '           / Time system used in time keywords              \n",
       "TIMEUNIT= 's       '           / Time since MJDREF, used in TSTART and TSTOP    \n",
       "MJDREFI =                51910 / MJD of GLAST reference epoch, integer part     \n",
       "MJDREFF = 7.428703703703703D-4 / MJD of GLAST reference epoch, fractional part  \n",
       "TSTART  =     329097595.403286 / [GLAST MET] Observation start time             \n",
       "TSTOP   =     329184005.307830 / [GLAST MET] Observation stop time              \n",
       "HDUCLASS= 'OGIP    '           / Conforms to OGIP standard indicated in HDUCLAS1\n",
       "HDUCLAS1= 'GTI     '           / Indicates good time intervals                  \n",
       "HDUVERS = '1.2.0   '           / Version of HDUCLAS1 format in use              \n",
       "EXTVER  =                    1 / Version of this extension format               \n",
       "CHECKSUM= 'ZcS8iaS5ZaS5faS5'   / HDU checksum updated 2011-06-08T04:33:29       \n",
       "DATASUM = '4103018472'         / data unit checksum updated 2011-06-08T04:33:29 "
      ]
     },
     "execution_count": 14,
     "metadata": {},
     "output_type": "execute_result"
    }
   ],
   "source": [
    "hdulist[3].header"
   ]
  },
  {
   "cell_type": "markdown",
   "metadata": {},
   "source": [
    "So it looks like we are working with some energy counts data, temportal information, quality measurements, etc. "
   ]
  },
  {
   "cell_type": "markdown",
   "metadata": {},
   "source": [
    "### Plotting Spectral Data\n",
    "Let's take a look at some of the data we've got. "
   ]
  },
  {
   "cell_type": "code",
   "execution_count": 15,
   "metadata": {},
   "outputs": [
    {
     "data": {
      "text/plain": [
       "19775"
      ]
     },
     "execution_count": 15,
     "metadata": {},
     "output_type": "execute_result"
    }
   ],
   "source": [
    "len(hdulist[2].data)"
   ]
  },
  {
   "cell_type": "code",
   "execution_count": 16,
   "metadata": {},
   "outputs": [
    {
     "data": {
      "text/plain": [
       "['COUNTS', 'EXPOSURE', 'QUALITY', 'TIME', 'ENDTIME']"
      ]
     },
     "execution_count": 16,
     "metadata": {},
     "output_type": "execute_result"
    }
   ],
   "source": [
    "hdulist[2].data.names"
   ]
  },
  {
   "cell_type": "code",
   "execution_count": 17,
   "metadata": {},
   "outputs": [
    {
     "data": {
      "text/plain": [
       "array([[  9,  34,  30, ...,   8, 274, 104],\n",
       "       [  7,  20,  29, ...,  15, 278,  99],\n",
       "       [  8,  23,  34, ...,  14, 236, 139],\n",
       "       ...,\n",
       "       [ 15,  29,  40, ...,  14, 223, 112],\n",
       "       [  6,  33,  36, ...,   7, 266, 112],\n",
       "       [  7,  30,  36, ...,   8, 236, 101]], dtype=uint16)"
      ]
     },
     "execution_count": 17,
     "metadata": {},
     "output_type": "execute_result"
    }
   ],
   "source": [
    "hdulist[2].data[\"COUNTS\"]"
   ]
  },
  {
   "cell_type": "code",
   "execution_count": 18,
   "metadata": {},
   "outputs": [
    {
     "data": {
      "text/plain": [
       "(19775, 128)"
      ]
     },
     "execution_count": 18,
     "metadata": {},
     "output_type": "execute_result"
    }
   ],
   "source": [
    "hdulist[2].data[\"COUNTS\"].shape"
   ]
  },
  {
   "cell_type": "markdown",
   "metadata": {},
   "source": [
    "There is a large array of counts at 128 different energies. Let's take a look at the lowest energy measurements: "
   ]
  },
  {
   "cell_type": "code",
   "execution_count": 19,
   "metadata": {},
   "outputs": [
    {
     "data": {
      "text/plain": [
       "[<matplotlib.lines.Line2D at 0x18208309b0>]"
      ]
     },
     "execution_count": 19,
     "metadata": {},
     "output_type": "execute_result"
    },
    {
     "data": {
      "image/png": "[encoded data removed]",
      "text/plain": [
       "<Figure size 432x288 with 1 Axes>"
      ]
     },
     "metadata": {
      "needs_background": "light"
     },
     "output_type": "display_data"
    }
   ],
   "source": [
    "plt.plot(hdulist[2].data[\"counts\"][:,0])\n"
   ]
  },
  {
   "cell_type": "markdown",
   "metadata": {},
   "source": [
    "So now we have a plot of counts over some perieod of time. We can see there is one major spike in the data. Let's filter the data so that we just have the major peak without the spike. "
   ]
  },
  {
   "cell_type": "code",
   "execution_count": 20,
   "metadata": {},
   "outputs": [],
   "source": [
    "w = np.logical_and(hdulist[2].data[\"counts\"][:,0] > 300, hdulist[2].data[\"counts\"][:,0] < 2000)"
   ]
  },
  {
   "cell_type": "code",
   "execution_count": 21,
   "metadata": {},
   "outputs": [
    {
     "data": {
      "text/plain": [
       "array([False, False, False, ..., False, False, False])"
      ]
     },
     "execution_count": 21,
     "metadata": {},
     "output_type": "execute_result"
    }
   ],
   "source": [
    "w"
   ]
  },
  {
   "cell_type": "markdown",
   "metadata": {},
   "source": [
    "This function, `np.logical_and`, returns a logical. We can see that `w` is now an array of true and false values. To take a subsection of our data where our filter is true:"
   ]
  },
  {
   "cell_type": "code",
   "execution_count": 22,
   "metadata": {},
   "outputs": [],
   "source": [
    "counts = hdulist[2].data[\"counts\"][:,0][w]"
   ]
  },
  {
   "cell_type": "code",
   "execution_count": 23,
   "metadata": {},
   "outputs": [
    {
     "data": {
      "text/plain": [
       "[<matplotlib.lines.Line2D at 0x18209b4320>]"
      ]
     },
     "execution_count": 23,
     "metadata": {},
     "output_type": "execute_result"
    },
    {
     "data": {
      "image/png": "[encoded data removed]",
      "text/plain": [
       "<Figure size 432x288 with 1 Axes>"
      ]
     },
     "metadata": {
      "needs_background": "light"
     },
     "output_type": "display_data"
    }
   ],
   "source": [
    "plt.plot(counts)"
   ]
  },
  {
   "cell_type": "code",
   "execution_count": 24,
   "metadata": {},
   "outputs": [
    {
     "data": {
      "text/plain": [
       "1410"
      ]
     },
     "execution_count": 24,
     "metadata": {},
     "output_type": "execute_result"
    }
   ],
   "source": [
    "counts\n",
    "len(counts)"
   ]
  },
  {
   "cell_type": "markdown",
   "metadata": {},
   "source": [
    "Now, it is good to add some units to data when you can. The header of the file tells us what the units are, but in this case, counts have no units. "
   ]
  },
  {
   "cell_type": "markdown",
   "metadata": {},
   "source": [
    "### Fitting the data with a Gaussian\n",
    "\n",
    "Now that we have extracted a detection feature from the whole data. Now let's say we want to fit it with a gaussian. Do do this we will make use of a couple of packages in in AstroPy. We will initialize the gaussian fit with some approximations (max, center, FWHM): "
   ]
  },
  {
   "cell_type": "code",
   "execution_count": 25,
   "metadata": {},
   "outputs": [],
   "source": [
    "g_init = models.Gaussian1D(1500, 300, 100)"
   ]
  },
  {
   "cell_type": "markdown",
   "metadata": {},
   "source": [
    "Now let's define a fitting method and produce a fit:"
   ]
  },
  {
   "cell_type": "code",
   "execution_count": 26,
   "metadata": {},
   "outputs": [],
   "source": [
    "fit_g = fitting.LevMarLSQFitter()"
   ]
  },
  {
   "cell_type": "markdown",
   "metadata": {},
   "source": [
    "Since this fitting routine expects both X and Y coordinate data, we need to define an X vector:"
   ]
  },
  {
   "cell_type": "code",
   "execution_count": 27,
   "metadata": {},
   "outputs": [],
   "source": [
    "t=np.arange(0,len(counts))"
   ]
  },
  {
   "cell_type": "code",
   "execution_count": 28,
   "metadata": {},
   "outputs": [],
   "source": [
    "g = fit_g(g_init, t, counts)"
   ]
  },
  {
   "cell_type": "markdown",
   "metadata": {},
   "source": [
    "Let's take a look at some of the qualities of our fitted gaussian:"
   ]
  },
  {
   "cell_type": "code",
   "execution_count": 29,
   "metadata": {},
   "outputs": [
    {
     "data": {
      "text/plain": [
       "Parameter('mean', value=619.6492367933208)"
      ]
     },
     "execution_count": 29,
     "metadata": {},
     "output_type": "execute_result"
    }
   ],
   "source": [
    "g.mean"
   ]
  },
  {
   "cell_type": "code",
   "execution_count": 30,
   "metadata": {},
   "outputs": [
    {
     "data": {
      "text/plain": [
       "Parameter('stddev', value=480.68572062988443, bounds=(1.1754943508222875e-38, None))"
      ]
     },
     "execution_count": 30,
     "metadata": {},
     "output_type": "execute_result"
    }
   ],
   "source": [
    "g.stddev"
   ]
  },
  {
   "cell_type": "code",
   "execution_count": 31,
   "metadata": {},
   "outputs": [
    {
     "data": {
      "text/plain": [
       "Parameter('amplitude', value=1345.2643084478582)"
      ]
     },
     "execution_count": 31,
     "metadata": {},
     "output_type": "execute_result"
    }
   ],
   "source": [
    "g.amplitude"
   ]
  },
  {
   "cell_type": "code",
   "execution_count": 32,
   "metadata": {},
   "outputs": [
    {
     "data": {
      "text/plain": [
       "<Gaussian1D(amplitude=1345.26430845, mean=619.64923679, stddev=480.68572063)>"
      ]
     },
     "execution_count": 32,
     "metadata": {},
     "output_type": "execute_result"
    }
   ],
   "source": [
    "g"
   ]
  },
  {
   "cell_type": "markdown",
   "metadata": {},
   "source": [
    "Our guesses wern't too bad, but we over estimated the Standard Deviation by about a factor of 5. The variable `g` has the fitted parameters of our gaussian but it doesn't actually contain an array. To plot it over the data, we need to create an array of values. We will make an array from 0 to 1410 with 2820 points in it. "
   ]
  },
  {
   "cell_type": "code",
   "execution_count": 33,
   "metadata": {},
   "outputs": [],
   "source": [
    "x = np.linspace(0, 1410, 2820)"
   ]
  },
  {
   "cell_type": "markdown",
   "metadata": {},
   "source": [
    "To find the values of our fit at each location, it is easy:"
   ]
  },
  {
   "cell_type": "code",
   "execution_count": 34,
   "metadata": {},
   "outputs": [],
   "source": [
    "y = g(x)"
   ]
  },
  {
   "cell_type": "markdown",
   "metadata": {},
   "source": [
    "Now we can plot it:"
   ]
  },
  {
   "cell_type": "code",
   "execution_count": 35,
   "metadata": {},
   "outputs": [
    {
     "data": {
      "text/plain": [
       "[<matplotlib.lines.Line2D at 0x182096cda0>]"
      ]
     },
     "execution_count": 35,
     "metadata": {},
     "output_type": "execute_result"
    },
    {
     "data": {
      "image/png": "[encoded data removed]",
      "text/plain": [
       "<Figure size 432x288 with 1 Axes>"
      ]
     },
     "metadata": {
      "needs_background": "light"
     },
     "output_type": "display_data"
    }
   ],
   "source": [
    "plt.plot(counts)\n",
    "plt.plot(x, y, linewidth=2)"
   ]
  },
  {
   "cell_type": "markdown",
   "metadata": {},
   "source": [
    "That isn't a very good fit. If we chose a more clever way to filter our data, or possibly fit two gaussians that could improve things. "
   ]
  },
  {
   "cell_type": "markdown",
   "metadata": {},
   "source": [
    "### Ingegrating under the curve. \n",
    "\n",
    "Let's find the area under the curve we just created. We can numerically integrate it easily:"
   ]
  },
  {
   "cell_type": "code",
   "execution_count": 36,
   "metadata": {},
   "outputs": [],
   "source": [
    "intensity = trapz(y,x)"
   ]
  },
  {
   "cell_type": "code",
   "execution_count": 37,
   "metadata": {},
   "outputs": [
    {
     "data": {
      "text/plain": [
       "1379801.5650536548"
      ]
     },
     "execution_count": 37,
     "metadata": {},
     "output_type": "execute_result"
    }
   ],
   "source": [
    "intensity"
   ]
  },
  {
   "cell_type": "markdown",
   "metadata": {},
   "source": [
    "## Creating a Histogram from a Map Image\n",
    "\n",
    "Often when working with images, it is useful to look at a histogram of the values to understand how the image is constructed. When working with solar data, we can use the `Map` object we saw earlier to help us construct one. \n",
    "\n",
    "First let's download some more libraries: "
   ]
  },
  {
   "cell_type": "code",
   "execution_count": 38,
   "metadata": {},
   "outputs": [],
   "source": [
    "import sunpy.map\n",
    "from astropy.coordinates import SkyCoord\n",
    "from sunpy.data.sample import AIA_171_IMAGE"
   ]
  },
  {
   "cell_type": "markdown",
   "metadata": {},
   "source": [
    "We first create the Map using the sample data and we will create a submap of a quiet region."
   ]
  },
  {
   "cell_type": "code",
   "execution_count": 39,
   "metadata": {},
   "outputs": [],
   "source": [
    "aia = sunpy.map.Map(AIA_171_IMAGE)\n",
    "bl = SkyCoord(-400 * u.arcsec, 0 * u.arcsec, frame=aia.coordinate_frame)\n",
    "tr = SkyCoord(0 * u.arcsec, 400 * u.arcsec, frame=aia.coordinate_frame)\n",
    "aia_smap = aia.submap(bl, tr)"
   ]
  },
  {
   "cell_type": "markdown",
   "metadata": {},
   "source": [
    "We now create a histogram of the data in this region."
   ]
  },
  {
   "cell_type": "code",
   "execution_count": 40,
   "metadata": {},
   "outputs": [],
   "source": [
    "dmin = aia_smap.min()\n",
    "dmax = aia_smap.max()\n",
    "num_bins = 50\n",
    "hist, bins = np.histogram(aia_smap.data, bins=np.linspace(dmin, dmax, num_bins))\n",
    "width = 0.7 * (bins[1] - bins[0])\n",
    "x = (bins[:-1] + bins[1:]) / 2"
   ]
  },
  {
   "cell_type": "markdown",
   "metadata": {},
   "source": [
    "Let’s plot the histogram as well as some standard values such as mean upper, and lower value and the one-sigma range."
   ]
  },
  {
   "cell_type": "code",
   "execution_count": 41,
   "metadata": {},
   "outputs": [
    {
     "data": {
      "image/png": "[encoded data removed]",
      "text/plain": [
       "<Figure size 432x288 with 1 Axes>"
      ]
     },
     "metadata": {
      "needs_background": "light"
     },
     "output_type": "display_data"
    }
   ],
   "source": [
    "plt.figure()\n",
    "plt.bar(x, hist, align='center', width=width, label='Histogram')\n",
    "plt.xlabel('Intensity')\n",
    "plt.axvline(dmin, label='Data min={:.2f}'.format(dmin), color='black')\n",
    "plt.axvline(dmax, label='Data max={:.2f}'.format(dmax), color='black')\n",
    "plt.axvline(aia_smap.data.mean(),\n",
    "            label='mean={:.2f}'.format(aia_smap.data.mean()), color='green')\n",
    "one_sigma = np.array([aia_smap.data.mean() - aia_smap.data.std(),\n",
    "                      aia_smap.data.mean() + aia_smap.data.std()])\n",
    "plt.axvspan(one_sigma[0], one_sigma[1], alpha=0.3, color='green',\n",
    "            label='mean +/- std = [{0:.2f}, {1:.2f}]'.format(\n",
    "            one_sigma[0], one_sigma[1]))\n",
    "plt.axvline(one_sigma[0], color='green')\n",
    "plt.axvline(one_sigma[1], color='red')\n",
    "plt.legend()\n",
    "plt.show()"
   ]
  },
  {
   "cell_type": "markdown",
   "metadata": {},
   "source": [
    "Finally let’s overplot what the one-sigma range means on the map\n",
    "\n"
   ]
  },
  {
   "cell_type": "code",
   "execution_count": 42,
   "metadata": {},
   "outputs": [
    {
     "data": {
      "image/png": "[encoded data removed]",
      "text/plain": [
       "<Figure size 432x288 with 1 Axes>"
      ]
     },
     "metadata": {
      "needs_background": "light"
     },
     "output_type": "display_data"
    }
   ],
   "source": [
    "fig = plt.figure()\n",
    "fig.add_subplot(projection=aia_smap)\n",
    "aia_smap.plot()\n",
    "levels = one_sigma / dmax * u.percent * 100\n",
    "aia_smap.draw_contours(levels=levels, colors=['red', 'green'])\n",
    "plt.show()"
   ]
  },
  {
   "cell_type": "code",
   "execution_count": null,
   "metadata": {},
   "outputs": [],
   "source": []
  },
  {
   "cell_type": "code",
   "execution_count": null,
   "metadata": {},
   "outputs": [],
   "source": []
  },
  {
   "cell_type": "code",
   "execution_count": null,
   "metadata": {},
   "outputs": [],
   "source": []
  }
 ],
 "metadata": {
  "kernelspec": {
   "display_name": "Python 3",
   "language": "python",
   "name": "python3"
  },
  "language_info": {
   "codemirror_mode": {
    "name": "ipython",
    "version": 3
   },
   "file_extension": ".py",
   "mimetype": "text/x-python",
   "name": "python",
   "nbconvert_exporter": "python",
   "pygments_lexer": "ipython3",
   "version": "3.6.6"
  }
 },
 "nbformat": 4,
 "nbformat_minor": 1
}
